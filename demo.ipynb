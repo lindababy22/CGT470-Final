{
 "cells": [
  {
   "cell_type": "code",
   "execution_count": 4,
   "metadata": {},
   "outputs": [],
   "source": [
    "from stanfordcorenlp import StanfordCoreNLP\n",
    "from load_glove_matrix import Glove"
   ]
  },
  {
   "cell_type": "code",
   "execution_count": 5,
   "metadata": {},
   "outputs": [
    {
     "name": "stdout",
     "output_type": "stream",
     "text": [
      "Loading pretrained Glove vectors from file C:/Users/sdzar/Documents/GitHub/CNIT581-NLT/data/glove.840B.300d.txt\n",
      "  --9.11%  loaded.\n",
      "  --18.21%  loaded.\n",
      "  --27.32%  loaded.\n",
      "  --36.43%  loaded.\n",
      "  --45.54%  loaded.\n",
      "  --54.64%  loaded.\n",
      "  --63.75%  loaded.\n",
      "  --72.86%  loaded.\n",
      "  --81.97%  loaded.\n",
      "  --91.07%  loaded.\n",
      "Finished loading Glove model. 2196017 vectors loaded\n"
     ]
    }
   ],
   "source": [
    "# load pre-trained Glove vectors, 300d\n",
    "glove_model = Glove()\n",
    "glove_model.load_model()"
   ]
  },
  {
   "cell_type": "code",
   "execution_count": 13,
   "metadata": {},
   "outputs": [],
   "source": [
    "# find all unique words and part of speach\n",
    "uniqueWords = []\n",
    "def find_words_pos(words, tags): \n",
    "    posWords = []\n",
    "    for i in words:\n",
    "        if not i in uniqueWords:\n",
    "            uniqueWords.append(i)\n",
    "    for tag in tags:\n",
    "        for word in uniqueWords:\n",
    "            if word[1] == tag:\n",
    "                posWords.append(word)\n",
    "            else:\n",
    "                continue\n",
    "    return posWords\n",
    "\n",
    "def find_words(words, trigger):\n",
    "    l = []\n",
    "    for word in words:\n",
    "        if trigger not in ('word', 'pos'):\n",
    "            print(\"Invalid trigger should be 'word' or 'pos'\")\n",
    "            break\n",
    "        elif trigger == 'word':\n",
    "            l.append(word[0])\n",
    "        elif trigger == 'pos':\n",
    "            l.append(word[1])\n",
    "    return l"
   ]
  },
  {
   "cell_type": "code",
   "execution_count": 8,
   "metadata": {},
   "outputs": [
    {
     "name": "stdout",
     "output_type": "stream",
     "text": [
      "Start preparing words...\n",
      "  --0.0%  loaded.\n",
      "  --10.0%  loaded.\n",
      "  --20.0%  loaded.\n",
      "  --30.0%  loaded.\n",
      "  --40.0%  loaded.\n",
      "  --50.0%  loaded.\n",
      "  --60.0%  loaded.\n",
      "  --70.0%  loaded.\n",
      "Done!\n"
     ]
    }
   ],
   "source": [
    "# make the twitter .csv as a .txt file and read all words from the file\n",
    "pos = []\n",
    "print(\"Start preparing words...\")\n",
    "# download CoreNLP 3.9.1 from https://stanfordnlp.github.io/CoreNLP/history.html\n",
    "nlp = StanfordCoreNLP(r'C:\\Users\\sdzar\\Documents\\GitHub\\CNIT581-NLT\\data\\stanford-corenlp-full-2018-02-27',memory='8g')\n",
    "# this is the wiki corpus, you can change it to any other curpos you want\n",
    "with open(\"./data/sentence.txt\", \"r\", encoding=\"utf-8\") as file:\n",
    "    for i, line in enumerate(file):\n",
    "        pos += nlp.pos_tag(line)\n",
    "        if (i+1) % 1 == 0:\n",
    "            print(\"  --{}%  loaded.\".format(round(i/10*100, 2)))\n",
    "nlp.close() # Do not forget to close! The backend server will consume a lot memery.\n",
    "print(\"Done!\")"
   ]
  },
  {
   "cell_type": "code",
   "execution_count": 15,
   "metadata": {},
   "outputs": [
    {
     "name": "stdout",
     "output_type": "stream",
     "text": [
      "Pos 1: ('I', 'PRP')\n",
      "\n",
      "Pos 2: ('love', 'VBP')\n",
      "\n",
      "Pos 3: ('dogs', 'NNS')\n",
      "\n",
      "Pos 4: ('.', '.')\n",
      "\n",
      "Pos 5: ('I', 'PRP')\n",
      "\n",
      "Pos 6: ('hate', 'VBP')\n",
      "\n",
      "Pos 7: ('dogs', 'NNS')\n",
      "\n",
      "Pos 8: ('.', '.')\n",
      "\n",
      "Pos 9: ('I', 'PRP')\n",
      "\n",
      "Pos 10: ('like', 'VBP')\n",
      "\n",
      "Pos 11: ('puppies', 'NNS')\n",
      "\n",
      "Pos 12: ('.', '.')\n",
      "\n",
      "Pos 13: ('The', 'DT')\n",
      "\n",
      "Pos 14: ('police', 'NN')\n",
      "\n",
      "Pos 15: ('spotted', 'VBD')\n",
      "\n",
      "Pos 16: ('a', 'DT')\n",
      "\n",
      "Pos 17: ('puma', 'NN')\n",
      "\n",
      "Pos 18: ('last', 'JJ')\n",
      "\n",
      "Pos 19: ('night', 'NN')\n",
      "\n",
      "Pos 20: ('.', '.')\n",
      "\n",
      "Pos 21: ('I', 'PRP')\n",
      "\n",
      "Pos 22: ('saw', 'VBD')\n",
      "\n",
      "Pos 23: ('a', 'DT')\n",
      "\n",
      "Pos 24: ('large', 'JJ')\n",
      "\n",
      "Pos 25: ('cat', 'NN')\n",
      "\n",
      "Pos 26: ('yesterday', 'NN')\n",
      "\n",
      "Pos 27: ('in', 'IN')\n",
      "\n",
      "Pos 28: ('the', 'DT')\n",
      "\n",
      "Pos 29: ('park', 'NN')\n",
      "\n",
      "Pos 30: ('.', '.')\n",
      "\n",
      "Pos 31: ('The', 'DT')\n",
      "\n",
      "Pos 32: ('tree', 'NN')\n",
      "\n",
      "Pos 33: ('is', 'VBZ')\n",
      "\n",
      "Pos 34: ('dying', 'VBG')\n",
      "\n",
      "Pos 35: ('.', '.')\n",
      "\n",
      "Pos 36: ('The', 'DT')\n",
      "\n",
      "Pos 37: ('tree', 'NN')\n",
      "\n",
      "Pos 38: ('is', 'VBZ')\n",
      "\n",
      "Pos 39: ('new', 'JJ')\n",
      "\n",
      "Pos 40: ('.', '.')\n",
      "\n",
      "Pos 41: ('I', 'PRP')\n",
      "\n",
      "Pos 42: ('saw', 'VBD')\n",
      "\n",
      "Pos 43: ('a', 'DT')\n",
      "\n",
      "Pos 44: ('rainbow', 'NN')\n",
      "\n",
      "Pos 45: ('yesterday', 'NN')\n",
      "\n",
      "Pos 46: ('.', '.')\n",
      "\n",
      "[('I', 'PRP'), ('love', 'VBP'), ('dogs', 'NNS'), ('.', '.'), ('hate', 'VBP'), ('like', 'VBP'), ('puppies', 'NNS'), ('The', 'DT'), ('police', 'NN'), ('spotted', 'VBD'), ('a', 'DT'), ('puma', 'NN'), ('last', 'JJ'), ('night', 'NN'), ('saw', 'VBD'), ('large', 'JJ'), ('cat', 'NN'), ('yesterday', 'NN'), ('in', 'IN'), ('the', 'DT'), ('park', 'NN'), ('tree', 'NN'), ('is', 'VBZ'), ('dying', 'VBG'), ('new', 'JJ'), ('rainbow', 'NN')]\n"
     ]
    }
   ],
   "source": [
    "# examples of result\n",
    "for i in range(0,len(pos)):\n",
    "    print(\"Pos {}: {}\\n\".format(i+1,pos[i]))\n",
    "print(uniqueWords)"
   ]
  },
  {
   "cell_type": "code",
   "execution_count": 34,
   "metadata": {},
   "outputs": [
    {
     "name": "stdout",
     "output_type": "stream",
     "text": [
      "Noun: \n",
      " [('police', 'NN'), ('puma', 'NN'), ('night', 'NN'), ('cat', 'NN'), ('yesterday', 'NN'), ('park', 'NN'), ('tree', 'NN'), ('rainbow', 'NN'), ('dogs', 'NNS'), ('puppies', 'NNS')]\n",
      "Verb: \n",
      " [('spotted', 'VBD'), ('saw', 'VBD'), ('dying', 'VBG'), ('love', 'VBP'), ('hate', 'VBP'), ('like', 'VBP'), ('is', 'VBZ')]\n",
      "Adjective & adverb: \n",
      " [('last', 'JJ'), ('large', 'JJ'), ('new', 'JJ')]\n",
      "Unique: \n",
      " [('police', 'NN'), ('puma', 'NN'), ('night', 'NN'), ('cat', 'NN'), ('yesterday', 'NN'), ('park', 'NN'), ('tree', 'NN'), ('rainbow', 'NN'), ('dogs', 'NNS'), ('puppies', 'NNS'), ('spotted', 'VBD'), ('saw', 'VBD'), ('dying', 'VBG'), ('love', 'VBP'), ('hate', 'VBP'), ('like', 'VBP'), ('is', 'VBZ'), ('last', 'JJ'), ('large', 'JJ'), ('new', 'JJ')]\n",
      "Count of unique words: 20\n"
     ]
    }
   ],
   "source": [
    "# this part is for the CGT project(needs changes since pos is changed to dict())\n",
    "\n",
    "tags_noun = ['NN',\"NNP\",'NNS','NNPS']\n",
    "data_noun = find_words_pos(pos, tags_noun)\n",
    "tags_verb = ['VB',\"VBD\",'VBG','VBN', 'VBP','VBZ']\n",
    "data_verb = find_words_pos(pos, tags_verb)\n",
    "tags_JJRB = ['JJ',\"JJR\", 'JJS','RB','RBR','RBS']\n",
    "data_JJRB = find_words_pos(pos, tags_JJRB)\n",
    "tags_unique = ['NN',\"NNP\",'NNS','NNPS','VB',\"VBD\",'VBG','VBN', 'VBP','VBZ','JJ',\"JJR\", 'JJS','RB','RBR','RBS']\n",
    "data_unique = find_words_pos(pos, tags_unique)\n",
    "# word = find_words(data, 'word')\n",
    "# tag = find_words(data, 'pos')\n",
    "print(\"Noun: \\n {}\".format(data_noun))\n",
    "print(\"Verb: \\n {}\".format(data_verb))\n",
    "print(\"Adjective & adverb: \\n {}\".format(data_JJRB))\n",
    "print(\"Unique: \\n {}\".format(data_unique))\n",
    "print(\"Count of unique words: {}\".format(len(data_unique)))"
   ]
  },
  {
   "cell_type": "code",
   "execution_count": 19,
   "metadata": {},
   "outputs": [],
   "source": [
    "# calculate the similarity between two words\n",
    "def similarity(w1,w2):\n",
    "    value = glove_model.similarity(w1,w2)\n",
    "    return [w1,w2,value]"
   ]
  },
  {
   "cell_type": "code",
   "execution_count": 46,
   "metadata": {},
   "outputs": [],
   "source": [
    "def sim(data_unique):\n",
    "    sim_list = []\n",
    "    for i, word1 in  enumerate(data_unique):\n",
    "        counter = 1\n",
    "        for j, word2 in enumerate(data_unique):\n",
    "            if i == j: continue\n",
    "            value = glove_model.similarity(word1[0],word2[0])\n",
    "            if value > 0.45:\n",
    "                sim_list.append((word1[0],word1[1],word2[0],value))\n",
    "                counter += 1\n",
    "    return sim_list #"
   ]
  },
  {
   "cell_type": "code",
   "execution_count": 47,
   "metadata": {},
   "outputs": [
    {
     "name": "stdout",
     "output_type": "stream",
     "text": [
      "[('night', 'NN', 'yesterday', 0.6068112818261747), ('night', 'NN', 'saw', 0.5092502041657018), ('night', 'NN', 'last', 0.6298856667608155), ('cat', 'NN', 'dogs', 0.692164799930228), ('cat', 'NN', 'puppies', 0.5781784202694006), ('yesterday', 'NN', 'night', 0.6068112818261747), ('yesterday', 'NN', 'saw', 0.5903825419692303), ('yesterday', 'NN', 'last', 0.7509270479250979), ('dogs', 'NNS', 'cat', 0.692164799930228), ('dogs', 'NNS', 'puppies', 0.7978993201086827), ('puppies', 'NNS', 'cat', 0.5781784202694006), ('puppies', 'NNS', 'dogs', 0.7978993201086827), ('spotted', 'VBD', 'saw', 0.4791552074540715), ('saw', 'VBD', 'night', 0.5092502041657018), ('saw', 'VBD', 'yesterday', 0.5903825419692303), ('saw', 'VBD', 'spotted', 0.4791552074540715), ('saw', 'VBD', 'love', 0.46734499221430786), ('saw', 'VBD', 'like', 0.5795228911657166), ('saw', 'VBD', 'last', 0.6219964413928809), ('dying', 'VBG', 'like', 0.46911952084954556), ('love', 'VBP', 'saw', 0.46734499221430786), ('love', 'VBP', 'hate', 0.6393098823113967), ('love', 'VBP', 'like', 0.65790401180881), ('hate', 'VBP', 'love', 0.6393098823113967), ('hate', 'VBP', 'like', 0.6574651482527227), ('like', 'VBP', 'saw', 0.5795228911657166), ('like', 'VBP', 'dying', 0.46911952084954556), ('like', 'VBP', 'love', 0.65790401180881), ('like', 'VBP', 'hate', 0.6574651482527227), ('like', 'VBP', 'is', 0.4547750249567677), ('is', 'VBZ', 'like', 0.4547750249567677), ('last', 'JJ', 'night', 0.6298856667608155), ('last', 'JJ', 'yesterday', 0.7509270479250979), ('last', 'JJ', 'saw', 0.6219964413928809)]\n"
     ]
    }
   ],
   "source": [
    "# Testing for finding similar words in unique word list\n",
    "print(sim(data_unique))"
   ]
  },
  {
   "cell_type": "code",
   "execution_count": null,
   "metadata": {},
   "outputs": [],
   "source": [
    "#to Json file\n",
    "class Node(object):\n",
    "    def _init_(self, name, size = None, extra = None):\n",
    "        self.name = name\n",
    "        self.children = []\n",
    "        self.size = size\n",
    "        self.extra = extra\n",
    "\n",
    "    def as_dict(self):\n",
    "        res = {'name':self.name}\n",
    "\n",
    "        return res\n",
    "\n",
    "with open('trying_so_hard.json','w') as out:\n",
    "    root = {'name': 'Words','children': []}\n",
    "\n",
    "    if data_noun[0] in ('N','V','J','R'):\n",
    "        root['children'].append(\n",
    "            {\n",
    "            'name': \"NOUN\", \n",
    "            'children': [data_noun[1]]\n",
    "            }\n",
    "        )\n",
    "    if data_verb[0] in ('N','V','J','R'):\n",
    "        root['children'].append(\n",
    "            {\n",
    "            'name': 'VERB', \n",
    "            'children': [data_verb[1]]\n",
    "            }\n",
    "        )\n",
    "    if data_JJRB[0] in ('N','V','J','R'):\n",
    "        root['children'].append(\n",
    "            {\n",
    "            'name': 'ADV_ADJ', \n",
    "            'children': [data_JJRB[1]]\n",
    "            }\n",
    "        )\n",
    "    json.dump(root, out)"
   ]
  }
 ],
 "metadata": {
  "kernelspec": {
   "display_name": "Python 3",
   "language": "python",
   "name": "python3"
  },
  "language_info": {
   "codemirror_mode": {
    "name": "ipython",
    "version": 3
   },
   "file_extension": ".py",
   "mimetype": "text/x-python",
   "name": "python",
   "nbconvert_exporter": "python",
   "pygments_lexer": "ipython3",
   "version": "3.6.9"
  }
 },
 "nbformat": 4,
 "nbformat_minor": 2
}
