{
 "cells": [
  {
   "cell_type": "code",
   "execution_count": 3,
   "metadata": {},
   "outputs": [],
   "source": [
    "from stanfordcorenlp import StanfordCoreNLP\n",
    "from load_glove_matrix import Glove"
   ]
  },
  {
   "cell_type": "code",
   "execution_count": 4,
   "metadata": {},
   "outputs": [
    {
     "name": "stdout",
     "output_type": "stream",
     "text": [
      "Loading pretrained Glove vectors from file ./data/glove.840B.300d.txt\n",
      "  --9.11%  loaded.\n",
      "  --18.21%  loaded.\n",
      "  --27.32%  loaded.\n",
      "  --36.43%  loaded.\n",
      "  --45.54%  loaded.\n",
      "  --54.64%  loaded.\n",
      "  --63.75%  loaded.\n",
      "  --72.86%  loaded.\n",
      "  --81.97%  loaded.\n",
      "  --91.07%  loaded.\n",
      "Finished loading Glove model. 2196017 vectors loaded\n"
     ]
    }
   ],
   "source": [
    "# load pre-trained Glove vectors, 300d\n",
    "glove_model = Glove()\n",
    "glove_model.load_model()"
   ]
  },
  {
   "cell_type": "code",
   "execution_count": 232,
   "metadata": {},
   "outputs": [],
   "source": [
    "# find all unique words and part of speach\n",
    "def find_words_pos(words, tags): \n",
    "    uniqueWords = []\n",
    "    posWords = []\n",
    "    for i in words:\n",
    "        if not i in uniqueWords:\n",
    "            uniqueWords.append(i)\n",
    "    for tag in tags:\n",
    "        for word in uniqueWords:\n",
    "            if word[1] == tag:\n",
    "                posWords.append(word)\n",
    "            else:\n",
    "                continue\n",
    "    return posWords\n",
    "\n",
    "def find_words(words, trigger):\n",
    "    l = []\n",
    "    for word in words:\n",
    "        if trigger not in ('word', 'pos'):\n",
    "            print(\"Invalid trigger should be 'word' or 'pos'\")\n",
    "            break\n",
    "        elif trigger == 'word':\n",
    "            l.append(word[0])\n",
    "        elif trigger == 'pos':\n",
    "            l.append(word[1])\n",
    "    return l"
   ]
  },
  {
   "cell_type": "code",
   "execution_count": 233,
   "metadata": {},
   "outputs": [
    {
     "name": "stdout",
     "output_type": "stream",
     "text": [
      "Start preparing words...\n",
      "  --0.0%  loaded.\n",
      "  --10.0%  loaded.\n",
      "  --20.0%  loaded.\n",
      "  --30.0%  loaded.\n",
      "  --40.0%  loaded.\n",
      "  --50.0%  loaded.\n",
      "  --60.0%  loaded.\n",
      "  --70.0%  loaded.\n",
      "  --80.0%  loaded.\n",
      "  --90.0%  loaded.\n",
      "  --100.0%  loaded.\n",
      "  --110.0%  loaded.\n",
      "  --120.0%  loaded.\n",
      "  --130.0%  loaded.\n",
      "Done!\n"
     ]
    }
   ],
   "source": [
    "# make the twitter .csv as a .txt file and read all words from the file\n",
    "pos = []\n",
    "print(\"Start preparing words...\")\n",
    "# download CoreNLP 3.9.1 from https://stanfordnlp.github.io/CoreNLP/history.html\n",
    "#nlp = StanfordCoreNLP(r'C:\\Users\\sdzar\\OneDrive\\Documents\\GitHub\\CGT470-Final\\data\\stanford-corenlp-full-2018-02-27',memory='8g')\n",
    "nlp = StanfordCoreNLP(r'C:\\Users\\hfhqy\\Desktop\\FINAL\\stanford-corenlp-full-2018-02-27',memory='8g')\n",
    "# this is the wiki corpus, you can change it to any other curpos you want\n",
    "with open(\"./data/sentence.txt\", \"r\", encoding=\"utf-8\") as file:\n",
    "    for i, line in enumerate(file):\n",
    "        pos += nlp.pos_tag(line)\n",
    "        if (i+1) % 1 == 0:\n",
    "            print(\"  --{}%  loaded.\".format(round(i/10*100, 2)))\n",
    "nlp.close() # Do not forget to close! The backend server will consume a lot memery.\n",
    "print(\"Done!\")"
   ]
  },
  {
   "cell_type": "code",
   "execution_count": 234,
   "metadata": {},
   "outputs": [
    {
     "name": "stdout",
     "output_type": "stream",
     "text": [
      "Pos 1: ('Asteroid', 'NNP')\n",
      "\n",
      "Pos 2: ('Bennu', 'NNP')\n",
      "\n",
      "Pos 3: ('is', 'VBZ')\n",
      "\n",
      "Pos 4: ('n’t', 'RB')\n",
      "\n",
      "Pos 5: ('really', 'RB')\n",
      "\n",
      "Pos 6: ('“', '``')\n",
      "\n",
      "Pos 7: ('alive', 'JJ')\n",
      "\n",
      "Pos 8: ('”', \"''\")\n",
      "\n",
      "Pos 9: ('because', 'IN')\n",
      "\n",
      "Pos 10: ('it', 'PRP')\n",
      "\n"
     ]
    }
   ],
   "source": [
    "# examples of result\n",
    "for i in range(0,10):\n",
    "    print(\"Pos {}: {}\\n\".format(i+1,pos[i]))"
   ]
  },
  {
   "cell_type": "code",
   "execution_count": 235,
   "metadata": {},
   "outputs": [
    {
     "name": "stdout",
     "output_type": "stream",
     "text": [
      "Unique: \n",
      " [('core', 'NN'), ('activity', 'NN'), ('space', 'NN'), ('zombie', 'NN'), ('system', 'NN'), ('return', 'NN'), ('surface', 'NN'), ('cannonball', 'NN'), ('emptiness', 'NN'), ('orbit', 'NN'), ('Space', 'NN'), ('rock', 'NN'), ('center', 'NN'), ('action', 'NN'), ('sun', 'NN'), ('framework', 'NN'), ('vacancy', 'NN'), ('conclusion', 'NN'), ('circle', 'NN'), ('couple', 'NN'), ('time', 'NN'), ('dozen', 'NN'), ('material', 'NN'), ('force', 'NN'), ('asteroid', 'NN'), ('spin', 'NN'), ('example', 'NN'), ('range', 'NN'), ('particle', 'NN'), ('OSIRIS-REx', 'NN'), ('sublimation', 'NN'), ('ice', 'NN'), ('water', 'NN'), ('phenomenon', 'NN'), ('comet', 'NN'), ('tail', 'NN'), ('host', 'NN'), ('Soil', 'NN'), ('fabric', 'NN'), ('turn', 'NN'), ('illustration', 'NN'), ('launch', 'NN'), ('molecule', 'NN'), ('way', 'NN'), ('Asteroid', 'NNP'), ('Bennu', 'NNP'), ('Hergenrother', 'NNP'), ('Earth', 'NNP'), ('OSIRIS-REx', 'NNP'), ('colleagues', 'NNS'), ('rocks', 'NNS'), ('others', 'NNS'), ('moons', 'NNS'), ('days', 'NNS'), ('Scientists', 'NNS'), ('ejections', 'NNS'), ('asteroids', 'NNS'), ('mechanisms', 'NNS'), ('parts', 'NNS'), ('Researchers', 'NNS'), ('launches', 'NNS'), ('components', 'NNS'), ('circles', 'NNS'), ('have', 'VB'), ('become', 'VB'), ('return', 'VB'), ('explain', 'VB'), ('work', 'VB'), ('eject', 'VB'), ('account', 'VB'), ('clarify', 'VB'), ('constrain', 'VB'), ('ended', 'VBD'), ('invoked', 'VBD'), ('witnessed', 'VBD'), ('conjured', 'VBD'), ('roaming', 'VBG'), ('sneezing', 'VBG'), ('returning', 'VBG'), ('meandering', 'VBG'), ('sniffling', 'VBG'), ('ejecting', 'VBG'), ('happening', 'VBG'), ('catapulting', 'VBG'), ('discovered', 'VBN'), ('warmed', 'VBN'), ('found', 'VBN'), ('oriented', 'VBN'), ('expected', 'VBN'), ('seen', 'VBN'), ('escape', 'VBP'), ('are', 'VBP'), ('end', 'VBP'), ('elude', 'VBP'), ('have', 'VBP'), ('pass', 'VBP'), ('do', 'VBP'), ('get', 'VBP'), ('seem', 'VBP'), ('extend', 'VBP'), ('marvel', 'VBP'), ('is', 'VBZ'), ('does', 'VBZ'), ('’s', 'VBZ'), ('says', 'VBZ'), ('orbits', 'VBZ'), ('produces', 'VBZ'), ('alive', 'JJ'), ('heated', 'JJ'), ('necessary', 'JJ'), ('geological', 'JJ'), ('dead', 'JJ'), ('solar', 'JJ'), ('small', 'JJ'), ('vast', 'JJ'), ('deep', 'JJ'), ('intriguing', 'JJ'), ('miniature', 'JJ'), ('few', 'JJ'), ('vital', 'JJ'), ('geographical', 'JJ'), ('tremendous', 'JJ'), ('profound', 'JJ'), ('captivating', 'JJ'), ('massive', 'JJ'), ('centrifugal', 'JJ'), ('same', 'JJ'), ('hot', 'JJ'), ('enormous', 'JJ'), ('smaller', 'JJR'), ('n’t', 'RB'), ('really', 'RB'), ('not', 'RB'), ('exactly', 'RB'), ('quickly', 'RB'), ('truly', 'RB'), ('precisely', 'RB'), ('little', 'RB'), ('rapidly', 'RB'), ('up', 'RB'), ('recently', 'RB'), ('Likewise', 'RB'), ('way', 'RB'), ('too', 'RB'), ('almost', 'RB'), ('Moreover', 'RB'), ('as', 'RB'), ('well', 'RB')]\n",
      "Count of unique words: 148\n"
     ]
    }
   ],
   "source": [
    "tags_unique = ['NN',\"NNP\",'NNS','NNPS','VB',\"VBD\",'VBG','VBN', 'VBP','VBZ','JJ',\"JJR\", 'JJS','RB','RBR','RBS']\n",
    "data_unique = find_words_pos(pos, tags_unique)\n",
    "print(\"Unique: \\n {}\".format(data_unique))\n",
    "print(\"Count of unique words: {}\".format(len(data_unique)))"
   ]
  },
  {
   "cell_type": "code",
   "execution_count": 236,
   "metadata": {},
   "outputs": [
    {
     "name": "stdout",
     "output_type": "stream",
     "text": [
      "Unique: \n",
      " [('core', 'Noun'), ('activity', 'Noun'), ('space', 'Noun'), ('zombie', 'Noun'), ('system', 'Noun'), ('return', 'Noun'), ('surface', 'Noun'), ('cannonball', 'Noun'), ('emptiness', 'Noun'), ('orbit', 'Noun'), ('Space', 'Noun'), ('rock', 'Noun'), ('center', 'Noun'), ('action', 'Noun'), ('sun', 'Noun'), ('framework', 'Noun'), ('vacancy', 'Noun'), ('conclusion', 'Noun'), ('circle', 'Noun'), ('couple', 'Noun'), ('time', 'Noun'), ('dozen', 'Noun'), ('material', 'Noun'), ('force', 'Noun'), ('asteroid', 'Noun'), ('spin', 'Noun'), ('example', 'Noun'), ('range', 'Noun'), ('particle', 'Noun'), ('OSIRIS-REx', 'Noun'), ('sublimation', 'Noun'), ('ice', 'Noun'), ('water', 'Noun'), ('phenomenon', 'Noun'), ('comet', 'Noun'), ('tail', 'Noun'), ('host', 'Noun'), ('Soil', 'Noun'), ('fabric', 'Noun'), ('turn', 'Noun'), ('illustration', 'Noun'), ('launch', 'Noun'), ('molecule', 'Noun'), ('way', 'Noun'), ('Asteroid', 'Noun'), ('Bennu', 'Noun'), ('Hergenrother', 'Noun'), ('Earth', 'Noun'), ('OSIRIS-REx', 'Noun'), ('colleagues', 'Noun'), ('rocks', 'Noun'), ('others', 'Noun'), ('moons', 'Noun'), ('days', 'Noun'), ('Scientists', 'Noun'), ('ejections', 'Noun'), ('asteroids', 'Noun'), ('mechanisms', 'Noun'), ('parts', 'Noun'), ('Researchers', 'Noun'), ('launches', 'Noun'), ('components', 'Noun'), ('circles', 'Noun'), ('have', 'Verb'), ('become', 'Verb'), ('return', 'Verb'), ('explain', 'Verb'), ('work', 'Verb'), ('eject', 'Verb'), ('account', 'Verb'), ('clarify', 'Verb'), ('constrain', 'Verb'), ('ended', 'Verb'), ('invoked', 'Verb'), ('witnessed', 'Verb'), ('conjured', 'Verb'), ('roaming', 'Verb'), ('sneezing', 'Verb'), ('returning', 'Verb'), ('meandering', 'Verb'), ('sniffling', 'Verb'), ('ejecting', 'Verb'), ('happening', 'Verb'), ('catapulting', 'Verb'), ('discovered', 'Verb'), ('warmed', 'Verb'), ('found', 'Verb'), ('oriented', 'Verb'), ('expected', 'Verb'), ('seen', 'Verb'), ('escape', 'Verb'), ('are', 'Verb'), ('end', 'Verb'), ('elude', 'Verb'), ('have', 'Verb'), ('pass', 'Verb'), ('do', 'Verb'), ('get', 'Verb'), ('seem', 'Verb'), ('extend', 'Verb'), ('marvel', 'Verb'), ('is', 'Verb'), ('does', 'Verb'), ('’s', 'Verb'), ('says', 'Verb'), ('orbits', 'Verb'), ('produces', 'Verb'), ('alive', 'JJRB'), ('heated', 'JJRB'), ('necessary', 'JJRB'), ('geological', 'JJRB'), ('dead', 'JJRB'), ('solar', 'JJRB'), ('small', 'JJRB'), ('vast', 'JJRB'), ('deep', 'JJRB'), ('intriguing', 'JJRB'), ('miniature', 'JJRB'), ('few', 'JJRB'), ('vital', 'JJRB'), ('geographical', 'JJRB'), ('tremendous', 'JJRB'), ('profound', 'JJRB'), ('captivating', 'JJRB'), ('massive', 'JJRB'), ('centrifugal', 'JJRB'), ('same', 'JJRB'), ('hot', 'JJRB'), ('enormous', 'JJRB'), ('smaller', 'JJRB'), ('n’t', 'JJRB'), ('really', 'JJRB'), ('not', 'JJRB'), ('exactly', 'JJRB'), ('quickly', 'JJRB'), ('truly', 'JJRB'), ('precisely', 'JJRB'), ('little', 'JJRB'), ('rapidly', 'JJRB'), ('up', 'JJRB'), ('recently', 'JJRB'), ('Likewise', 'JJRB'), ('way', 'JJRB'), ('too', 'JJRB'), ('almost', 'JJRB'), ('Moreover', 'JJRB'), ('as', 'JJRB'), ('well', 'JJRB')]\n",
      "Count of unique words: 148\n"
     ]
    }
   ],
   "source": [
    "tags_noun = ['NN',\"NNP\",'NNS','NNPS']\n",
    "tags_verb = ['VB',\"VBD\",'VBG','VBN', 'VBP','VBZ']\n",
    "tags_JJRB = ['JJ',\"JJR\", 'JJS','RB','RBR','RBS']\n",
    "for i,pos in enumerate(data_unique):\n",
    "    if pos[1] in tags_noun:\n",
    "        data_unique[i] = (data_unique[i][0],\"Noun\")\n",
    "    elif pos[1] in tags_verb:\n",
    "        data_unique[i] = (data_unique[i][0],\"Verb\")\n",
    "    elif pos[1] in tags_JJRB:\n",
    "        data_unique[i] = (data_unique[i][0],\"JJRB\")\n",
    "print(\"Unique: \\n {}\".format(data_unique))\n",
    "print(\"Count of unique words: {}\".format(len(data_unique)))"
   ]
  },
  {
   "cell_type": "code",
   "execution_count": 237,
   "metadata": {},
   "outputs": [],
   "source": [
    "# calculate the similarity between two words\n",
    "def similarity(w1,w2):\n",
    "    value = glove_model.similarity(w1,w2)\n",
    "    return [w1,w2,value]"
   ]
  },
  {
   "cell_type": "code",
   "execution_count": 238,
   "metadata": {},
   "outputs": [],
   "source": [
    "def sim(data_unique):\n",
    "    sim_list = []\n",
    "    for i, word1 in  enumerate(data_unique):\n",
    "        counter = 1\n",
    "        for j, word2 in enumerate(data_unique):\n",
    "            #if i == j: continue\n",
    "            value = glove_model.similarity(word1[0],word2[0])\n",
    "            if value > 0.7: # Change the threshold\n",
    "                sim_list.append((word1[0],word1[1],word2[0],word2[1],value))\n",
    "                counter += 1\n",
    "    return sim_list \n",
    "# sim_list[i][0] - word1\n",
    "# sim_list[i][1] - POS of word1\n",
    "# sim_list[i][2] - word2\n",
    "# sim_list[i][3] - similarity value"
   ]
  },
  {
   "cell_type": "code",
   "execution_count": 239,
   "metadata": {},
   "outputs": [],
   "source": [
    "# this method is used to count unique word that has similarity value > 0.5 within the corpus\n",
    "def count_corpus(sim_list):\n",
    "    unique = []\n",
    "    for word in sim_list:\n",
    "        if word[0] not in unique:\n",
    "            unique.append(word[0])\n",
    "    return len(unique)"
   ]
  },
  {
   "cell_type": "code",
   "execution_count": 240,
   "metadata": {},
   "outputs": [
    {
     "name": "stdout",
     "output_type": "stream",
     "text": [
      "[('core', 'Noun', 'core', 'Noun', 0.9999999999999998), ('activity', 'Noun', 'activity', 'Noun', 1.0), ('space', 'Noun', 'space', 'Noun', 1.0), ('zombie', 'Noun', 'zombie', 'Noun', 1.0), ('system', 'Noun', 'system', 'Noun', 1.0000000000000002), ('return', 'Noun', 'return', 'Noun', 1.0000000000000002), ('return', 'Noun', 'return', 'Verb', 1.0000000000000002), ('return', 'Noun', 'returning', 'Verb', 0.7796470100712067), ('surface', 'Noun', 'surface', 'Noun', 1.0), ('cannonball', 'Noun', 'cannonball', 'Noun', 0.9999999999999999), ('emptiness', 'Noun', 'emptiness', 'Noun', 1.0000000000000002), ('orbit', 'Noun', 'orbit', 'Noun', 1.0), ('orbit', 'Noun', 'orbits', 'Verb', 0.8440186319028712), ('Space', 'Noun', 'Space', 'Noun', 1.0), ('rock', 'Noun', 'rock', 'Noun', 1.0), ('rock', 'Noun', 'rocks', 'Noun', 0.7268403728933546), ('center', 'Noun', 'center', 'Noun', 1.0), ('action', 'Noun', 'action', 'Noun', 1.0), ('sun', 'Noun', 'sun', 'Noun', 1.0000000000000002), ('framework', 'Noun', 'framework', 'Noun', 1.0), ('vacancy', 'Noun', 'vacancy', 'Noun', 1.0), ('conclusion', 'Noun', 'conclusion', 'Noun', 0.9999999999999998), ('circle', 'Noun', 'circle', 'Noun', 1.0), ('circle', 'Noun', 'circles', 'Noun', 0.797561836745811), ('couple', 'Noun', 'couple', 'Noun', 1.0), ('couple', 'Noun', 'few', 'JJRB', 0.8165259359106247), ('time', 'Noun', 'time', 'Noun', 0.9999999999999998), ('dozen', 'Noun', 'dozen', 'Noun', 0.9999999999999998), ('material', 'Noun', 'material', 'Noun', 1.0000000000000002), ('force', 'Noun', 'force', 'Noun', 1.0), ('asteroid', 'Noun', 'asteroid', 'Noun', 0.9999999999999999), ('asteroid', 'Noun', 'comet', 'Noun', 0.7205527937329798), ('asteroid', 'Noun', 'asteroids', 'Noun', 0.8241148535210703), ('spin', 'Noun', 'spin', 'Noun', 1.0), ('example', 'Noun', 'example', 'Noun', 1.0), ('range', 'Noun', 'range', 'Noun', 0.9999999999999999), ('particle', 'Noun', 'particle', 'Noun', 1.0000000000000002), ('OSIRIS-REx', 'Noun', 'OSIRIS-REx', 'Noun', 0.9999999999999999), ('OSIRIS-REx', 'Noun', 'OSIRIS-REx', 'Noun', 0.9999999999999999), ('sublimation', 'Noun', 'sublimation', 'Noun', 1.0), ('ice', 'Noun', 'ice', 'Noun', 0.9999999999999998), ('water', 'Noun', 'water', 'Noun', 1.0000000000000002), ('phenomenon', 'Noun', 'phenomenon', 'Noun', 0.9999999999999999), ('comet', 'Noun', 'asteroid', 'Noun', 0.7205527937329798), ('comet', 'Noun', 'comet', 'Noun', 1.0), ('tail', 'Noun', 'tail', 'Noun', 1.0), ('host', 'Noun', 'host', 'Noun', 0.9999999999999998), ('Soil', 'Noun', 'Soil', 'Noun', 0.9999999999999999), ('fabric', 'Noun', 'fabric', 'Noun', 1.0), ('turn', 'Noun', 'turn', 'Noun', 1.0), ('turn', 'Noun', 'way', 'Noun', 0.7020985376903934), ('turn', 'Noun', 'way', 'JJRB', 0.7020985376903934), ('illustration', 'Noun', 'illustration', 'Noun', 1.0), ('launch', 'Noun', 'launch', 'Noun', 1.0), ('launch', 'Noun', 'launches', 'Noun', 0.8175134712756278), ('molecule', 'Noun', 'molecule', 'Noun', 1.0), ('way', 'Noun', 'turn', 'Noun', 0.7020985376903934), ('way', 'Noun', 'way', 'Noun', 1.0), ('way', 'Noun', 'get', 'Verb', 0.7174805964415563), ('way', 'Noun', 'really', 'JJRB', 0.7606487473536593), ('way', 'Noun', 'way', 'JJRB', 1.0), ('way', 'Noun', 'too', 'JJRB', 0.7103311665539109), ('Asteroid', 'Noun', 'Asteroid', 'Noun', 0.9999999999999999), ('Bennu', 'Noun', 'Bennu', 'Noun', 1.0), ('Hergenrother', 'Noun', 'Hergenrother', 'Noun', 1.0), ('Earth', 'Noun', 'Earth', 'Noun', 0.9999999999999999), ('OSIRIS-REx', 'Noun', 'OSIRIS-REx', 'Noun', 0.9999999999999999), ('OSIRIS-REx', 'Noun', 'OSIRIS-REx', 'Noun', 0.9999999999999999), ('colleagues', 'Noun', 'colleagues', 'Noun', 0.9999999999999999), ('rocks', 'Noun', 'rock', 'Noun', 0.7268403728933546), ('rocks', 'Noun', 'rocks', 'Noun', 0.9999999999999998), ('others', 'Noun', 'others', 'Noun', 1.0), ('moons', 'Noun', 'moons', 'Noun', 1.0), ('days', 'Noun', 'days', 'Noun', 1.0), ('Scientists', 'Noun', 'Scientists', 'Noun', 1.0000000000000002), ('Scientists', 'Noun', 'Researchers', 'Noun', 0.8457832959005263), ('ejections', 'Noun', 'ejections', 'Noun', 0.9999999999999999), ('asteroids', 'Noun', 'asteroid', 'Noun', 0.8241148535210703), ('asteroids', 'Noun', 'asteroids', 'Noun', 1.0), ('mechanisms', 'Noun', 'mechanisms', 'Noun', 1.0), ('parts', 'Noun', 'parts', 'Noun', 0.9999999999999999), ('Researchers', 'Noun', 'Scientists', 'Noun', 0.8457832959005263), ('Researchers', 'Noun', 'Researchers', 'Noun', 1.0), ('launches', 'Noun', 'launch', 'Noun', 0.8175134712756278), ('launches', 'Noun', 'launches', 'Noun', 1.0000000000000002), ('components', 'Noun', 'components', 'Noun', 1.0000000000000002), ('circles', 'Noun', 'circle', 'Noun', 0.797561836745811), ('circles', 'Noun', 'circles', 'Noun', 0.9999999999999999), ('have', 'Verb', 'have', 'Verb', 1.0), ('have', 'Verb', 'are', 'Verb', 0.7346809821386662), ('have', 'Verb', 'have', 'Verb', 1.0), ('have', 'Verb', 'get', 'Verb', 0.7104161269573481), ('have', 'Verb', 'seem', 'Verb', 0.7208965691265472), ('have', 'Verb', 'not', 'JJRB', 0.7567292648500781), ('have', 'Verb', 'well', 'JJRB', 0.7131754759883429), ('become', 'Verb', 'become', 'Verb', 1.0), ('return', 'Verb', 'return', 'Noun', 1.0000000000000002), ('return', 'Verb', 'return', 'Verb', 1.0000000000000002), ('return', 'Verb', 'returning', 'Verb', 0.7796470100712067), ('explain', 'Verb', 'explain', 'Verb', 0.9999999999999998), ('explain', 'Verb', 'clarify', 'Verb', 0.7438380573845715), ('work', 'Verb', 'work', 'Verb', 0.9999999999999999), ('eject', 'Verb', 'eject', 'Verb', 0.9999999999999999), ('eject', 'Verb', 'ejecting', 'Verb', 0.7337622693975142), ('account', 'Verb', 'account', 'Verb', 1.0), ('clarify', 'Verb', 'explain', 'Verb', 0.7438380573845715), ('clarify', 'Verb', 'clarify', 'Verb', 0.9999999999999999), ('constrain', 'Verb', 'constrain', 'Verb', 1.0), ('ended', 'Verb', 'ended', 'Verb', 1.0), ('invoked', 'Verb', 'invoked', 'Verb', 1.0000000000000002), ('witnessed', 'Verb', 'witnessed', 'Verb', 0.9999999999999998), ('conjured', 'Verb', 'conjured', 'Verb', 1.0), ('roaming', 'Verb', 'roaming', 'Verb', 1.0), ('sneezing', 'Verb', 'sneezing', 'Verb', 1.0000000000000002), ('returning', 'Verb', 'return', 'Noun', 0.7796470100712067), ('returning', 'Verb', 'return', 'Verb', 0.7796470100712067), ('returning', 'Verb', 'returning', 'Verb', 1.0), ('meandering', 'Verb', 'meandering', 'Verb', 0.9999999999999999), ('sniffling', 'Verb', 'sniffling', 'Verb', 0.9999999999999999), ('ejecting', 'Verb', 'eject', 'Verb', 0.7337622693975142), ('ejecting', 'Verb', 'ejecting', 'Verb', 1.0), ('happening', 'Verb', 'happening', 'Verb', 1.0), ('catapulting', 'Verb', 'catapulting', 'Verb', 0.9999999999999998), ('discovered', 'Verb', 'discovered', 'Verb', 1.0), ('discovered', 'Verb', 'found', 'Verb', 0.7510381241454309), ('warmed', 'Verb', 'warmed', 'Verb', 0.9999999999999999), ('found', 'Verb', 'discovered', 'Verb', 0.7510381241454309), ('found', 'Verb', 'found', 'Verb', 1.0), ('oriented', 'Verb', 'oriented', 'Verb', 1.0), ('expected', 'Verb', 'expected', 'Verb', 1.0000000000000004), ('seen', 'Verb', 'seen', 'Verb', 1.0), ('escape', 'Verb', 'escape', 'Verb', 1.0000000000000002), ('are', 'Verb', 'have', 'Verb', 0.7346809821386662), ('are', 'Verb', 'are', 'Verb', 0.9999999999999997), ('are', 'Verb', 'have', 'Verb', 0.7346809821386662), ('end', 'Verb', 'end', 'Verb', 0.9999999999999999), ('elude', 'Verb', 'elude', 'Verb', 1.0000000000000002), ('have', 'Verb', 'have', 'Verb', 1.0), ('have', 'Verb', 'are', 'Verb', 0.7346809821386662), ('have', 'Verb', 'have', 'Verb', 1.0), ('have', 'Verb', 'get', 'Verb', 0.7104161269573481), ('have', 'Verb', 'seem', 'Verb', 0.7208965691265472), ('have', 'Verb', 'not', 'JJRB', 0.7567292648500781), ('have', 'Verb', 'well', 'JJRB', 0.7131754759883429), ('pass', 'Verb', 'pass', 'Verb', 1.0000000000000002), ('do', 'Verb', 'do', 'Verb', 1.0), ('do', 'Verb', 'seem', 'Verb', 0.7168131451842321), ('do', 'Verb', 'does', 'Verb', 0.7142621833072444), ('do', 'Verb', 'not', 'JJRB', 0.720588726258659), ('get', 'Verb', 'way', 'Noun', 0.7174805964415563), ('get', 'Verb', 'have', 'Verb', 0.7104161269573481), ('get', 'Verb', 'have', 'Verb', 0.7104161269573481), ('get', 'Verb', 'get', 'Verb', 1.0), ('get', 'Verb', 'really', 'JJRB', 0.7076499663951554), ('get', 'Verb', 'up', 'JJRB', 0.7329959931453416), ('get', 'Verb', 'way', 'JJRB', 0.7174805964415563), ('seem', 'Verb', 'have', 'Verb', 0.7208965691265472), ('seem', 'Verb', 'have', 'Verb', 0.7208965691265472), ('seem', 'Verb', 'do', 'Verb', 0.7168131451842321), ('seem', 'Verb', 'seem', 'Verb', 1.0), ('seem', 'Verb', 'really', 'JJRB', 0.7921843507877604), ('seem', 'Verb', 'not', 'JJRB', 0.7530244248885496), ('seem', 'Verb', 'too', 'JJRB', 0.7847593082408013), ('extend', 'Verb', 'extend', 'Verb', 1.0), ('marvel', 'Verb', 'marvel', 'Verb', 1.0000000000000004), ('is', 'Verb', 'is', 'Verb', 0.9999999999999998), ('does', 'Verb', 'do', 'Verb', 0.7142621833072444), ('does', 'Verb', 'does', 'Verb', 1.0000000000000002), ('does', 'Verb', 'really', 'JJRB', 0.7222680840666297), ('does', 'Verb', 'not', 'JJRB', 0.7708450679544663), ('’s', 'Verb', '’s', 'Verb', 1.0), ('says', 'Verb', 'says', 'Verb', 0.9999999999999999), ('orbits', 'Verb', 'orbit', 'Noun', 0.8440186319028712), ('orbits', 'Verb', 'orbits', 'Verb', 1.0), ('produces', 'Verb', 'produces', 'Verb', 1.0), ('alive', 'JJRB', 'alive', 'JJRB', 1.0), ('alive', 'JJRB', 'dead', 'JJRB', 0.7174257226101443), ('heated', 'JJRB', 'heated', 'JJRB', 0.9999999999999998), ('necessary', 'JJRB', 'necessary', 'JJRB', 1.0), ('geological', 'JJRB', 'geological', 'JJRB', 1.0), ('dead', 'JJRB', 'alive', 'JJRB', 0.7174257226101443), ('dead', 'JJRB', 'dead', 'JJRB', 1.0), ('solar', 'JJRB', 'solar', 'JJRB', 0.9999999999999998), ('small', 'JJRB', 'small', 'JJRB', 0.9999999999999998), ('small', 'JJRB', 'smaller', 'JJRB', 0.7731433618791603), ('small', 'JJRB', 'little', 'JJRB', 0.7017077829277723), ('vast', 'JJRB', 'vast', 'JJRB', 0.9999999999999999), ('vast', 'JJRB', 'enormous', 'JJRB', 0.7529430308259598), ('deep', 'JJRB', 'deep', 'JJRB', 1.0), ('intriguing', 'JJRB', 'intriguing', 'JJRB', 1.0), ('intriguing', 'JJRB', 'captivating', 'JJRB', 0.7391695904404512), ('miniature', 'JJRB', 'miniature', 'JJRB', 1.0000000000000002), ('few', 'JJRB', 'couple', 'Noun', 0.8165259359106247), ('few', 'JJRB', 'few', 'JJRB', 1.0), ('vital', 'JJRB', 'vital', 'JJRB', 1.0), ('geographical', 'JJRB', 'geographical', 'JJRB', 1.0), ('tremendous', 'JJRB', 'tremendous', 'JJRB', 1.0), ('tremendous', 'JJRB', 'enormous', 'JJRB', 0.7712431748258823), ('profound', 'JJRB', 'profound', 'JJRB', 1.0000000000000002), ('captivating', 'JJRB', 'intriguing', 'JJRB', 0.7391695904404512), ('captivating', 'JJRB', 'captivating', 'JJRB', 0.9999999999999998), ('massive', 'JJRB', 'massive', 'JJRB', 0.9999999999999999), ('massive', 'JJRB', 'enormous', 'JJRB', 0.84176436275577), ('centrifugal', 'JJRB', 'centrifugal', 'JJRB', 1.0), ('same', 'JJRB', 'same', 'JJRB', 1.0000000000000002), ('same', 'JJRB', 'not', 'JJRB', 0.7004245490559413), ('same', 'JJRB', 'exactly', 'JJRB', 0.702411210401479), ('hot', 'JJRB', 'hot', 'JJRB', 1.0), ('enormous', 'JJRB', 'vast', 'JJRB', 0.7529430308259598), ('enormous', 'JJRB', 'tremendous', 'JJRB', 0.7712431748258823), ('enormous', 'JJRB', 'massive', 'JJRB', 0.84176436275577), ('enormous', 'JJRB', 'enormous', 'JJRB', 1.0000000000000002), ('smaller', 'JJRB', 'small', 'JJRB', 0.7731433618791603), ('smaller', 'JJRB', 'smaller', 'JJRB', 1.0), ('n’t', 'JJRB', 'n’t', 'JJRB', 1.0000000000000002), ('really', 'JJRB', 'way', 'Noun', 0.7606487473536593), ('really', 'JJRB', 'get', 'Verb', 0.7076499663951554), ('really', 'JJRB', 'seem', 'Verb', 0.7921843507877604), ('really', 'JJRB', 'does', 'Verb', 0.7222680840666297), ('really', 'JJRB', 'really', 'JJRB', 0.9999999999999998), ('really', 'JJRB', 'not', 'JJRB', 0.7407652914646127), ('really', 'JJRB', 'exactly', 'JJRB', 0.7482164359832791), ('really', 'JJRB', 'truly', 'JJRB', 0.7595693145041587), ('really', 'JJRB', 'way', 'JJRB', 0.7606487473536593), ('really', 'JJRB', 'too', 'JJRB', 0.8344732064580926), ('really', 'JJRB', 'well', 'JJRB', 0.7483836793095574), ('not', 'JJRB', 'have', 'Verb', 0.7567292648500781), ('not', 'JJRB', 'have', 'Verb', 0.7567292648500781), ('not', 'JJRB', 'do', 'Verb', 0.720588726258659), ('not', 'JJRB', 'seem', 'Verb', 0.7530244248885496), ('not', 'JJRB', 'does', 'Verb', 0.7708450679544663), ('not', 'JJRB', 'same', 'JJRB', 0.7004245490559413), ('not', 'JJRB', 'really', 'JJRB', 0.7407652914646127), ('not', 'JJRB', 'not', 'JJRB', 1.0), ('not', 'JJRB', 'too', 'JJRB', 0.7369255185654966), ('exactly', 'JJRB', 'same', 'JJRB', 0.702411210401479), ('exactly', 'JJRB', 'really', 'JJRB', 0.7482164359832791), ('exactly', 'JJRB', 'exactly', 'JJRB', 0.9999999999999998), ('exactly', 'JJRB', 'precisely', 'JJRB', 0.7454505820858015), ('quickly', 'JJRB', 'quickly', 'JJRB', 0.9999999999999998), ('quickly', 'JJRB', 'rapidly', 'JJRB', 0.7532367510386178), ('truly', 'JJRB', 'really', 'JJRB', 0.7595693145041587), ('truly', 'JJRB', 'truly', 'JJRB', 1.0), ('precisely', 'JJRB', 'exactly', 'JJRB', 0.7454505820858015), ('precisely', 'JJRB', 'precisely', 'JJRB', 0.9999999999999998), ('little', 'JJRB', 'small', 'JJRB', 0.7017077829277723), ('little', 'JJRB', 'little', 'JJRB', 0.9999999999999999), ('little', 'JJRB', 'too', 'JJRB', 0.7333647834975289), ('rapidly', 'JJRB', 'quickly', 'JJRB', 0.7532367510386178), ('rapidly', 'JJRB', 'rapidly', 'JJRB', 0.9999999999999998), ('up', 'JJRB', 'get', 'Verb', 0.7329959931453416), ('up', 'JJRB', 'up', 'JJRB', 1.0), ('recently', 'JJRB', 'recently', 'JJRB', 1.0000000000000004), ('Likewise', 'JJRB', 'Likewise', 'JJRB', 1.0000000000000002), ('Likewise', 'JJRB', 'Moreover', 'JJRB', 0.818090509509434), ('way', 'JJRB', 'turn', 'Noun', 0.7020985376903934), ('way', 'JJRB', 'way', 'Noun', 1.0), ('way', 'JJRB', 'get', 'Verb', 0.7174805964415563), ('way', 'JJRB', 'really', 'JJRB', 0.7606487473536593), ('way', 'JJRB', 'way', 'JJRB', 1.0), ('way', 'JJRB', 'too', 'JJRB', 0.7103311665539109), ('too', 'JJRB', 'way', 'Noun', 0.7103311665539109), ('too', 'JJRB', 'seem', 'Verb', 0.7847593082408013), ('too', 'JJRB', 'really', 'JJRB', 0.8344732064580926), ('too', 'JJRB', 'not', 'JJRB', 0.7369255185654966), ('too', 'JJRB', 'little', 'JJRB', 0.7333647834975289), ('too', 'JJRB', 'way', 'JJRB', 0.7103311665539109), ('too', 'JJRB', 'too', 'JJRB', 0.9999999999999999), ('too', 'JJRB', 'well', 'JJRB', 0.7569540904208247), ('almost', 'JJRB', 'almost', 'JJRB', 0.9999999999999999), ('Moreover', 'JJRB', 'Likewise', 'JJRB', 0.818090509509434), ('Moreover', 'JJRB', 'Moreover', 'JJRB', 1.0000000000000002), ('as', 'JJRB', 'as', 'JJRB', 1.0), ('as', 'JJRB', 'well', 'JJRB', 0.7461969487154666), ('well', 'JJRB', 'have', 'Verb', 0.7131754759883429), ('well', 'JJRB', 'have', 'Verb', 0.7131754759883429), ('well', 'JJRB', 'really', 'JJRB', 0.7483836793095574), ('well', 'JJRB', 'too', 'JJRB', 0.7569540904208247), ('well', 'JJRB', 'as', 'JJRB', 0.7461969487154666), ('well', 'JJRB', 'well', 'JJRB', 1.0)]"
     ]
    },
    {
     "name": "stdout",
     "output_type": "stream",
     "text": [
      "\n",
      "Unique words: 148\n",
      "Words that have similarity value > 0.7 within the corpus: 144\n"
     ]
    }
   ],
   "source": [
    "# Testing for finding similar words in unique word list\n",
    "print(sim(data_unique))\n",
    "print(\"Unique words: {}\".format(len(data_unique)))\n",
    "print(\"Words that have similarity value > 0.7 within the corpus: {}\".format(count_corpus(sim(data_unique))))"
   ]
  },
  {
   "cell_type": "code",
   "execution_count": 241,
   "metadata": {},
   "outputs": [],
   "source": [
    "def find_unique(final_set):\n",
    "    unique = []\n",
    "    unique_return = []\n",
    "    for i in final_set:\n",
    "        if i[0] not in unique:\n",
    "            unique.append(i[0])\n",
    "            unique_return.append((i[0],i[1]))\n",
    "    return unique_return"
   ]
  },
  {
   "cell_type": "code",
   "execution_count": 242,
   "metadata": {},
   "outputs": [
    {
     "name": "stdout",
     "output_type": "stream",
     "text": [
      "Count of final set: 280\n",
      "Unique set: \n",
      " [('core', 'Noun'), ('activity', 'Noun'), ('space', 'Noun'), ('zombie', 'Noun'), ('system', 'Noun'), ('return', 'Noun'), ('surface', 'Noun'), ('cannonball', 'Noun'), ('emptiness', 'Noun'), ('orbit', 'Noun'), ('Space', 'Noun'), ('rock', 'Noun'), ('center', 'Noun'), ('action', 'Noun'), ('sun', 'Noun'), ('framework', 'Noun'), ('vacancy', 'Noun'), ('conclusion', 'Noun'), ('circle', 'Noun'), ('couple', 'Noun'), ('time', 'Noun'), ('dozen', 'Noun'), ('material', 'Noun'), ('force', 'Noun'), ('asteroid', 'Noun'), ('spin', 'Noun'), ('example', 'Noun'), ('range', 'Noun'), ('particle', 'Noun'), ('OSIRIS-REx', 'Noun'), ('sublimation', 'Noun'), ('ice', 'Noun'), ('water', 'Noun'), ('phenomenon', 'Noun'), ('comet', 'Noun'), ('tail', 'Noun'), ('host', 'Noun'), ('Soil', 'Noun'), ('fabric', 'Noun'), ('turn', 'Noun'), ('illustration', 'Noun'), ('launch', 'Noun'), ('molecule', 'Noun'), ('way', 'Noun'), ('Asteroid', 'Noun'), ('Bennu', 'Noun'), ('Hergenrother', 'Noun'), ('Earth', 'Noun'), ('colleagues', 'Noun'), ('rocks', 'Noun'), ('others', 'Noun'), ('moons', 'Noun'), ('days', 'Noun'), ('Scientists', 'Noun'), ('ejections', 'Noun'), ('asteroids', 'Noun'), ('mechanisms', 'Noun'), ('parts', 'Noun'), ('Researchers', 'Noun'), ('launches', 'Noun'), ('components', 'Noun'), ('circles', 'Noun'), ('have', 'Verb'), ('become', 'Verb'), ('explain', 'Verb'), ('work', 'Verb'), ('eject', 'Verb'), ('account', 'Verb'), ('clarify', 'Verb'), ('constrain', 'Verb'), ('ended', 'Verb'), ('invoked', 'Verb'), ('witnessed', 'Verb'), ('conjured', 'Verb'), ('roaming', 'Verb'), ('sneezing', 'Verb'), ('returning', 'Verb'), ('meandering', 'Verb'), ('sniffling', 'Verb'), ('ejecting', 'Verb'), ('happening', 'Verb'), ('catapulting', 'Verb'), ('discovered', 'Verb'), ('warmed', 'Verb'), ('found', 'Verb'), ('oriented', 'Verb'), ('expected', 'Verb'), ('seen', 'Verb'), ('escape', 'Verb'), ('are', 'Verb'), ('end', 'Verb'), ('elude', 'Verb'), ('pass', 'Verb'), ('do', 'Verb'), ('get', 'Verb'), ('seem', 'Verb'), ('extend', 'Verb'), ('marvel', 'Verb'), ('is', 'Verb'), ('does', 'Verb'), ('’s', 'Verb'), ('says', 'Verb'), ('orbits', 'Verb'), ('produces', 'Verb'), ('alive', 'JJRB'), ('heated', 'JJRB'), ('necessary', 'JJRB'), ('geological', 'JJRB'), ('dead', 'JJRB'), ('solar', 'JJRB'), ('small', 'JJRB'), ('vast', 'JJRB'), ('deep', 'JJRB'), ('intriguing', 'JJRB'), ('miniature', 'JJRB'), ('few', 'JJRB'), ('vital', 'JJRB'), ('geographical', 'JJRB'), ('tremendous', 'JJRB'), ('profound', 'JJRB'), ('captivating', 'JJRB'), ('massive', 'JJRB'), ('centrifugal', 'JJRB'), ('same', 'JJRB'), ('hot', 'JJRB'), ('enormous', 'JJRB'), ('smaller', 'JJRB'), ('n’t', 'JJRB'), ('really', 'JJRB'), ('not', 'JJRB'), ('exactly', 'JJRB'), ('quickly', 'JJRB'), ('truly', 'JJRB'), ('precisely', 'JJRB'), ('little', 'JJRB'), ('rapidly', 'JJRB'), ('up', 'JJRB'), ('recently', 'JJRB'), ('Likewise', 'JJRB'), ('too', 'JJRB'), ('almost', 'JJRB'), ('Moreover', 'JJRB'), ('as', 'JJRB'), ('well', 'JJRB')]\n",
      "Noun: \n",
      " [('core', 'Noun', 'core', 'Noun', 0.9999999999999998), ('activity', 'Noun', 'activity', 'Noun', 1.0), ('space', 'Noun', 'space', 'Noun', 1.0), ('zombie', 'Noun', 'zombie', 'Noun', 1.0), ('system', 'Noun', 'system', 'Noun', 1.0000000000000002), ('return', 'Noun', 'return', 'Noun', 1.0000000000000002), ('return', 'Noun', 'return', 'Verb', 1.0000000000000002), ('return', 'Noun', 'returning', 'Verb', 0.7796470100712067), ('surface', 'Noun', 'surface', 'Noun', 1.0), ('cannonball', 'Noun', 'cannonball', 'Noun', 0.9999999999999999), ('emptiness', 'Noun', 'emptiness', 'Noun', 1.0000000000000002), ('orbit', 'Noun', 'orbit', 'Noun', 1.0), ('orbit', 'Noun', 'orbits', 'Verb', 0.8440186319028712), ('Space', 'Noun', 'Space', 'Noun', 1.0), ('rock', 'Noun', 'rock', 'Noun', 1.0), ('rock', 'Noun', 'rocks', 'Noun', 0.7268403728933546), ('center', 'Noun', 'center', 'Noun', 1.0), ('action', 'Noun', 'action', 'Noun', 1.0), ('sun', 'Noun', 'sun', 'Noun', 1.0000000000000002), ('framework', 'Noun', 'framework', 'Noun', 1.0), ('vacancy', 'Noun', 'vacancy', 'Noun', 1.0), ('conclusion', 'Noun', 'conclusion', 'Noun', 0.9999999999999998), ('circle', 'Noun', 'circle', 'Noun', 1.0), ('circle', 'Noun', 'circles', 'Noun', 0.797561836745811), ('couple', 'Noun', 'couple', 'Noun', 1.0), ('couple', 'Noun', 'few', 'JJRB', 0.8165259359106247), ('time', 'Noun', 'time', 'Noun', 0.9999999999999998), ('dozen', 'Noun', 'dozen', 'Noun', 0.9999999999999998), ('material', 'Noun', 'material', 'Noun', 1.0000000000000002), ('force', 'Noun', 'force', 'Noun', 1.0), ('asteroid', 'Noun', 'asteroid', 'Noun', 0.9999999999999999), ('asteroid', 'Noun', 'comet', 'Noun', 0.7205527937329798), ('asteroid', 'Noun', 'asteroids', 'Noun', 0.8241148535210703), ('spin', 'Noun', 'spin', 'Noun', 1.0), ('example', 'Noun', 'example', 'Noun', 1.0), ('range', 'Noun', 'range', 'Noun', 0.9999999999999999), ('particle', 'Noun', 'particle', 'Noun', 1.0000000000000002), ('OSIRIS-REx', 'Noun', 'OSIRIS-REx', 'Noun', 0.9999999999999999), ('sublimation', 'Noun', 'sublimation', 'Noun', 1.0), ('ice', 'Noun', 'ice', 'Noun', 0.9999999999999998), ('water', 'Noun', 'water', 'Noun', 1.0000000000000002), ('phenomenon', 'Noun', 'phenomenon', 'Noun', 0.9999999999999999), ('comet', 'Noun', 'asteroid', 'Noun', 0.7205527937329798), ('comet', 'Noun', 'comet', 'Noun', 1.0), ('tail', 'Noun', 'tail', 'Noun', 1.0), ('host', 'Noun', 'host', 'Noun', 0.9999999999999998), ('Soil', 'Noun', 'Soil', 'Noun', 0.9999999999999999), ('fabric', 'Noun', 'fabric', 'Noun', 1.0), ('turn', 'Noun', 'turn', 'Noun', 1.0), ('turn', 'Noun', 'way', 'Noun', 0.7020985376903934), ('turn', 'Noun', 'way', 'JJRB', 0.7020985376903934), ('illustration', 'Noun', 'illustration', 'Noun', 1.0), ('launch', 'Noun', 'launch', 'Noun', 1.0), ('launch', 'Noun', 'launches', 'Noun', 0.8175134712756278), ('molecule', 'Noun', 'molecule', 'Noun', 1.0), ('way', 'Noun', 'turn', 'Noun', 0.7020985376903934), ('way', 'Noun', 'way', 'Noun', 1.0), ('way', 'Noun', 'get', 'Verb', 0.7174805964415563), ('way', 'Noun', 'really', 'JJRB', 0.7606487473536593), ('way', 'Noun', 'way', 'JJRB', 1.0), ('way', 'Noun', 'too', 'JJRB', 0.7103311665539109), ('Asteroid', 'Noun', 'Asteroid', 'Noun', 0.9999999999999999), ('Bennu', 'Noun', 'Bennu', 'Noun', 1.0), ('Hergenrother', 'Noun', 'Hergenrother', 'Noun', 1.0), ('Earth', 'Noun', 'Earth', 'Noun', 0.9999999999999999), ('colleagues', 'Noun', 'colleagues', 'Noun', 0.9999999999999999), ('rocks', 'Noun', 'rock', 'Noun', 0.7268403728933546), ('rocks', 'Noun', 'rocks', 'Noun', 0.9999999999999998), ('others', 'Noun', 'others', 'Noun', 1.0), ('moons', 'Noun', 'moons', 'Noun', 1.0), ('days', 'Noun', 'days', 'Noun', 1.0), ('Scientists', 'Noun', 'Scientists', 'Noun', 1.0000000000000002), ('Scientists', 'Noun', 'Researchers', 'Noun', 0.8457832959005263), ('ejections', 'Noun', 'ejections', 'Noun', 0.9999999999999999), ('asteroids', 'Noun', 'asteroid', 'Noun', 0.8241148535210703), ('asteroids', 'Noun', 'asteroids', 'Noun', 1.0), ('mechanisms', 'Noun', 'mechanisms', 'Noun', 1.0), ('parts', 'Noun', 'parts', 'Noun', 0.9999999999999999), ('Researchers', 'Noun', 'Scientists', 'Noun', 0.8457832959005263), ('Researchers', 'Noun', 'Researchers', 'Noun', 1.0), ('launches', 'Noun', 'launch', 'Noun', 0.8175134712756278), ('launches', 'Noun', 'launches', 'Noun', 1.0000000000000002), ('components', 'Noun', 'components', 'Noun', 1.0000000000000002), ('circles', 'Noun', 'circle', 'Noun', 0.797561836745811), ('circles', 'Noun', 'circles', 'Noun', 0.9999999999999999)]\n",
      "Verb: \n"
     ]
    },
    {
     "name": "stdout",
     "output_type": "stream",
     "text": [
      " [('have', 'Verb', 'have', 'Verb', 1.0), ('have', 'Verb', 'are', 'Verb', 0.7346809821386662), ('have', 'Verb', 'get', 'Verb', 0.7104161269573481), ('have', 'Verb', 'seem', 'Verb', 0.7208965691265472), ('have', 'Verb', 'not', 'JJRB', 0.7567292648500781), ('have', 'Verb', 'well', 'JJRB', 0.7131754759883429), ('become', 'Verb', 'become', 'Verb', 1.0), ('return', 'Verb', 'return', 'Noun', 1.0000000000000002), ('return', 'Verb', 'return', 'Verb', 1.0000000000000002), ('return', 'Verb', 'returning', 'Verb', 0.7796470100712067), ('explain', 'Verb', 'explain', 'Verb', 0.9999999999999998), ('explain', 'Verb', 'clarify', 'Verb', 0.7438380573845715), ('work', 'Verb', 'work', 'Verb', 0.9999999999999999), ('eject', 'Verb', 'eject', 'Verb', 0.9999999999999999), ('eject', 'Verb', 'ejecting', 'Verb', 0.7337622693975142), ('account', 'Verb', 'account', 'Verb', 1.0), ('clarify', 'Verb', 'explain', 'Verb', 0.7438380573845715), ('clarify', 'Verb', 'clarify', 'Verb', 0.9999999999999999), ('constrain', 'Verb', 'constrain', 'Verb', 1.0), ('ended', 'Verb', 'ended', 'Verb', 1.0), ('invoked', 'Verb', 'invoked', 'Verb', 1.0000000000000002), ('witnessed', 'Verb', 'witnessed', 'Verb', 0.9999999999999998), ('conjured', 'Verb', 'conjured', 'Verb', 1.0), ('roaming', 'Verb', 'roaming', 'Verb', 1.0), ('sneezing', 'Verb', 'sneezing', 'Verb', 1.0000000000000002), ('returning', 'Verb', 'return', 'Noun', 0.7796470100712067), ('returning', 'Verb', 'return', 'Verb', 0.7796470100712067), ('returning', 'Verb', 'returning', 'Verb', 1.0), ('meandering', 'Verb', 'meandering', 'Verb', 0.9999999999999999), ('sniffling', 'Verb', 'sniffling', 'Verb', 0.9999999999999999), ('ejecting', 'Verb', 'eject', 'Verb', 0.7337622693975142), ('ejecting', 'Verb', 'ejecting', 'Verb', 1.0), ('happening', 'Verb', 'happening', 'Verb', 1.0), ('catapulting', 'Verb', 'catapulting', 'Verb', 0.9999999999999998), ('discovered', 'Verb', 'discovered', 'Verb', 1.0), ('discovered', 'Verb', 'found', 'Verb', 0.7510381241454309), ('warmed', 'Verb', 'warmed', 'Verb', 0.9999999999999999), ('found', 'Verb', 'discovered', 'Verb', 0.7510381241454309), ('found', 'Verb', 'found', 'Verb', 1.0), ('oriented', 'Verb', 'oriented', 'Verb', 1.0), ('expected', 'Verb', 'expected', 'Verb', 1.0000000000000004), ('seen', 'Verb', 'seen', 'Verb', 1.0), ('escape', 'Verb', 'escape', 'Verb', 1.0000000000000002), ('are', 'Verb', 'have', 'Verb', 0.7346809821386662), ('are', 'Verb', 'are', 'Verb', 0.9999999999999997), ('end', 'Verb', 'end', 'Verb', 0.9999999999999999), ('elude', 'Verb', 'elude', 'Verb', 1.0000000000000002), ('pass', 'Verb', 'pass', 'Verb', 1.0000000000000002), ('do', 'Verb', 'do', 'Verb', 1.0), ('do', 'Verb', 'seem', 'Verb', 0.7168131451842321), ('do', 'Verb', 'does', 'Verb', 0.7142621833072444), ('do', 'Verb', 'not', 'JJRB', 0.720588726258659), ('get', 'Verb', 'way', 'Noun', 0.7174805964415563), ('get', 'Verb', 'have', 'Verb', 0.7104161269573481), ('get', 'Verb', 'get', 'Verb', 1.0), ('get', 'Verb', 'really', 'JJRB', 0.7076499663951554), ('get', 'Verb', 'up', 'JJRB', 0.7329959931453416), ('get', 'Verb', 'way', 'JJRB', 0.7174805964415563), ('seem', 'Verb', 'have', 'Verb', 0.7208965691265472), ('seem', 'Verb', 'do', 'Verb', 0.7168131451842321), ('seem', 'Verb', 'seem', 'Verb', 1.0), ('seem', 'Verb', 'really', 'JJRB', 0.7921843507877604), ('seem', 'Verb', 'not', 'JJRB', 0.7530244248885496), ('seem', 'Verb', 'too', 'JJRB', 0.7847593082408013), ('extend', 'Verb', 'extend', 'Verb', 1.0), ('marvel', 'Verb', 'marvel', 'Verb', 1.0000000000000004), ('is', 'Verb', 'is', 'Verb', 0.9999999999999998), ('does', 'Verb', 'do', 'Verb', 0.7142621833072444), ('does', 'Verb', 'does', 'Verb', 1.0000000000000002), ('does', 'Verb', 'really', 'JJRB', 0.7222680840666297), ('does', 'Verb', 'not', 'JJRB', 0.7708450679544663), ('’s', 'Verb', '’s', 'Verb', 1.0), ('says', 'Verb', 'says', 'Verb', 0.9999999999999999), ('orbits', 'Verb', 'orbit', 'Noun', 0.8440186319028712), ('orbits', 'Verb', 'orbits', 'Verb', 1.0), ('produces', 'Verb', 'produces', 'Verb', 1.0)]\n",
      "Adjective & adverb: \n"
     ]
    },
    {
     "name": "stdout",
     "output_type": "stream",
     "text": [
      " [('alive', 'JJRB', 'alive', 'JJRB', 1.0), ('alive', 'JJRB', 'dead', 'JJRB', 0.7174257226101443), ('heated', 'JJRB', 'heated', 'JJRB', 0.9999999999999998), ('necessary', 'JJRB', 'necessary', 'JJRB', 1.0), ('geological', 'JJRB', 'geological', 'JJRB', 1.0), ('dead', 'JJRB', 'alive', 'JJRB', 0.7174257226101443), ('dead', 'JJRB', 'dead', 'JJRB', 1.0), ('solar', 'JJRB', 'solar', 'JJRB', 0.9999999999999998), ('small', 'JJRB', 'small', 'JJRB', 0.9999999999999998), ('small', 'JJRB', 'smaller', 'JJRB', 0.7731433618791603), ('small', 'JJRB', 'little', 'JJRB', 0.7017077829277723), ('vast', 'JJRB', 'vast', 'JJRB', 0.9999999999999999), ('vast', 'JJRB', 'enormous', 'JJRB', 0.7529430308259598), ('deep', 'JJRB', 'deep', 'JJRB', 1.0), ('intriguing', 'JJRB', 'intriguing', 'JJRB', 1.0), ('intriguing', 'JJRB', 'captivating', 'JJRB', 0.7391695904404512), ('miniature', 'JJRB', 'miniature', 'JJRB', 1.0000000000000002), ('few', 'JJRB', 'couple', 'Noun', 0.8165259359106247), ('few', 'JJRB', 'few', 'JJRB', 1.0), ('vital', 'JJRB', 'vital', 'JJRB', 1.0), ('geographical', 'JJRB', 'geographical', 'JJRB', 1.0), ('tremendous', 'JJRB', 'tremendous', 'JJRB', 1.0), ('tremendous', 'JJRB', 'enormous', 'JJRB', 0.7712431748258823), ('profound', 'JJRB', 'profound', 'JJRB', 1.0000000000000002), ('captivating', 'JJRB', 'intriguing', 'JJRB', 0.7391695904404512), ('captivating', 'JJRB', 'captivating', 'JJRB', 0.9999999999999998), ('massive', 'JJRB', 'massive', 'JJRB', 0.9999999999999999), ('massive', 'JJRB', 'enormous', 'JJRB', 0.84176436275577), ('centrifugal', 'JJRB', 'centrifugal', 'JJRB', 1.0), ('same', 'JJRB', 'same', 'JJRB', 1.0000000000000002), ('same', 'JJRB', 'not', 'JJRB', 0.7004245490559413), ('same', 'JJRB', 'exactly', 'JJRB', 0.702411210401479), ('hot', 'JJRB', 'hot', 'JJRB', 1.0), ('enormous', 'JJRB', 'vast', 'JJRB', 0.7529430308259598), ('enormous', 'JJRB', 'tremendous', 'JJRB', 0.7712431748258823), ('enormous', 'JJRB', 'massive', 'JJRB', 0.84176436275577), ('enormous', 'JJRB', 'enormous', 'JJRB', 1.0000000000000002), ('smaller', 'JJRB', 'small', 'JJRB', 0.7731433618791603), ('smaller', 'JJRB', 'smaller', 'JJRB', 1.0), ('n’t', 'JJRB', 'n’t', 'JJRB', 1.0000000000000002), ('really', 'JJRB', 'way', 'Noun', 0.7606487473536593), ('really', 'JJRB', 'get', 'Verb', 0.7076499663951554), ('really', 'JJRB', 'seem', 'Verb', 0.7921843507877604), ('really', 'JJRB', 'does', 'Verb', 0.7222680840666297), ('really', 'JJRB', 'really', 'JJRB', 0.9999999999999998), ('really', 'JJRB', 'not', 'JJRB', 0.7407652914646127), ('really', 'JJRB', 'exactly', 'JJRB', 0.7482164359832791), ('really', 'JJRB', 'truly', 'JJRB', 0.7595693145041587), ('really', 'JJRB', 'way', 'JJRB', 0.7606487473536593), ('really', 'JJRB', 'too', 'JJRB', 0.8344732064580926), ('really', 'JJRB', 'well', 'JJRB', 0.7483836793095574), ('not', 'JJRB', 'have', 'Verb', 0.7567292648500781), ('not', 'JJRB', 'do', 'Verb', 0.720588726258659), ('not', 'JJRB', 'seem', 'Verb', 0.7530244248885496), ('not', 'JJRB', 'does', 'Verb', 0.7708450679544663), ('not', 'JJRB', 'same', 'JJRB', 0.7004245490559413), ('not', 'JJRB', 'really', 'JJRB', 0.7407652914646127), ('not', 'JJRB', 'not', 'JJRB', 1.0), ('not', 'JJRB', 'too', 'JJRB', 0.7369255185654966), ('exactly', 'JJRB', 'same', 'JJRB', 0.702411210401479), ('exactly', 'JJRB', 'really', 'JJRB', 0.7482164359832791), ('exactly', 'JJRB', 'exactly', 'JJRB', 0.9999999999999998), ('exactly', 'JJRB', 'precisely', 'JJRB', 0.7454505820858015), ('quickly', 'JJRB', 'quickly', 'JJRB', 0.9999999999999998), ('quickly', 'JJRB', 'rapidly', 'JJRB', 0.7532367510386178), ('truly', 'JJRB', 'really', 'JJRB', 0.7595693145041587), ('truly', 'JJRB', 'truly', 'JJRB', 1.0), ('precisely', 'JJRB', 'exactly', 'JJRB', 0.7454505820858015), ('precisely', 'JJRB', 'precisely', 'JJRB', 0.9999999999999998), ('little', 'JJRB', 'small', 'JJRB', 0.7017077829277723), ('little', 'JJRB', 'little', 'JJRB', 0.9999999999999999), ('little', 'JJRB', 'too', 'JJRB', 0.7333647834975289), ('rapidly', 'JJRB', 'quickly', 'JJRB', 0.7532367510386178), ('rapidly', 'JJRB', 'rapidly', 'JJRB', 0.9999999999999998), ('up', 'JJRB', 'get', 'Verb', 0.7329959931453416), ('up', 'JJRB', 'up', 'JJRB', 1.0), ('recently', 'JJRB', 'recently', 'JJRB', 1.0000000000000004), ('Likewise', 'JJRB', 'Likewise', 'JJRB', 1.0000000000000002), ('Likewise', 'JJRB', 'Moreover', 'JJRB', 0.818090509509434), ('way', 'JJRB', 'turn', 'Noun', 0.7020985376903934), ('way', 'JJRB', 'way', 'Noun', 1.0), ('way', 'JJRB', 'get', 'Verb', 0.7174805964415563), ('way', 'JJRB', 'really', 'JJRB', 0.7606487473536593), ('way', 'JJRB', 'way', 'JJRB', 1.0), ('way', 'JJRB', 'too', 'JJRB', 0.7103311665539109), ('too', 'JJRB', 'way', 'Noun', 0.7103311665539109), ('too', 'JJRB', 'seem', 'Verb', 0.7847593082408013), ('too', 'JJRB', 'really', 'JJRB', 0.8344732064580926), ('too', 'JJRB', 'not', 'JJRB', 0.7369255185654966), ('too', 'JJRB', 'little', 'JJRB', 0.7333647834975289), ('too', 'JJRB', 'way', 'JJRB', 0.7103311665539109), ('too', 'JJRB', 'too', 'JJRB', 0.9999999999999999), ('too', 'JJRB', 'well', 'JJRB', 0.7569540904208247), ('almost', 'JJRB', 'almost', 'JJRB', 0.9999999999999999), ('Moreover', 'JJRB', 'Likewise', 'JJRB', 0.818090509509434), ('Moreover', 'JJRB', 'Moreover', 'JJRB', 1.0000000000000002), ('as', 'JJRB', 'as', 'JJRB', 1.0), ('as', 'JJRB', 'well', 'JJRB', 0.7461969487154666), ('well', 'JJRB', 'have', 'Verb', 0.7131754759883429), ('well', 'JJRB', 'really', 'JJRB', 0.7483836793095574), ('well', 'JJRB', 'too', 'JJRB', 0.7569540904208247), ('well', 'JJRB', 'as', 'JJRB', 0.7461969487154666), ('well', 'JJRB', 'well', 'JJRB', 1.0)]\n",
      "Count of Noun: 85\n",
      "Count of Verb: 76\n",
      "Count of Adjective & adverb: 103\n"
     ]
    }
   ],
   "source": [
    "# this part is for the CGT project\n",
    "final_set = sim(data_unique)\n",
    "final_unique = find_unique(final_set)\n",
    "data_noun = find_words_pos(final_set, ['Noun'])\n",
    "data_verb = find_words_pos(final_set, ['Verb'])\n",
    "data_JJRB = find_words_pos(final_set, ['JJRB'])\n",
    "# word = find_words(data, 'word')\n",
    "# tag = find_words(data, 'pos')\n",
    "print(\"Count of final set: {}\".format(len(final_set)))\n",
    "print(\"Unique set: \\n {}\".format(final_unique))\n",
    "print(\"Noun: \\n {}\".format(data_noun))\n",
    "print(\"Verb: \\n {}\".format(data_verb))\n",
    "print(\"Adjective & adverb: \\n {}\".format(data_JJRB))\n",
    "print(\"Count of Noun: {}\".format(len(data_noun)))\n",
    "print(\"Count of Verb: {}\".format(len(data_verb)))\n",
    "print(\"Count of Adjective & adverb: {}\".format(len(data_JJRB)))"
   ]
  },
  {
   "cell_type": "code",
   "execution_count": 247,
   "metadata": {
    "scrolled": true
   },
   "outputs": [
    {
     "name": "stdout",
     "output_type": "stream",
     "text": [
      "{'name': 'alive', 'children': [{'name': 'alive', 'children': [{'similarity': 1.0}]}]}\n",
      "{'name': 'alive', 'children': [{'name': 'alive', 'children': [{'similarity': 1.0}]}, {'name': 'dead', 'children': [{'similarity': 0.7174257226101443}]}]}\n",
      "{'name': 'heated', 'children': [{'name': 'heated', 'children': [{'similarity': 0.9999999999999998}]}]}\n",
      "{'name': 'necessary', 'children': [{'name': 'necessary', 'children': [{'similarity': 1.0}]}]}\n",
      "{'name': 'geological', 'children': [{'name': 'geological', 'children': [{'similarity': 1.0}]}]}\n",
      "{'name': 'dead', 'children': [{'name': 'alive', 'children': [{'similarity': 0.7174257226101443}]}]}\n",
      "{'name': 'dead', 'children': [{'name': 'alive', 'children': [{'similarity': 0.7174257226101443}]}, {'name': 'dead', 'children': [{'similarity': 1.0}]}]}\n",
      "{'name': 'solar', 'children': [{'name': 'solar', 'children': [{'similarity': 0.9999999999999998}]}]}\n",
      "{'name': 'small', 'children': [{'name': 'small', 'children': [{'similarity': 0.9999999999999998}]}]}\n",
      "{'name': 'small', 'children': [{'name': 'small', 'children': [{'similarity': 0.9999999999999998}]}, {'name': 'smaller', 'children': [{'similarity': 0.7731433618791603}]}]}\n",
      "{'name': 'small', 'children': [{'name': 'small', 'children': [{'similarity': 0.9999999999999998}]}, {'name': 'smaller', 'children': [{'similarity': 0.7731433618791603}]}, {'name': 'little', 'children': [{'similarity': 0.7017077829277723}]}]}\n",
      "{'name': 'vast', 'children': [{'name': 'vast', 'children': [{'similarity': 0.9999999999999999}]}]}\n",
      "{'name': 'vast', 'children': [{'name': 'vast', 'children': [{'similarity': 0.9999999999999999}]}, {'name': 'enormous', 'children': [{'similarity': 0.7529430308259598}]}]}\n",
      "{'name': 'deep', 'children': [{'name': 'deep', 'children': [{'similarity': 1.0}]}]}\n",
      "{'name': 'intriguing', 'children': [{'name': 'intriguing', 'children': [{'similarity': 1.0}]}]}\n",
      "{'name': 'intriguing', 'children': [{'name': 'intriguing', 'children': [{'similarity': 1.0}]}, {'name': 'captivating', 'children': [{'similarity': 0.7391695904404512}]}]}\n",
      "{'name': 'miniature', 'children': [{'name': 'miniature', 'children': [{'similarity': 1.0000000000000002}]}]}\n",
      "{'name': 'few', 'children': [{'name': 'few', 'children': [{'similarity': 1.0}]}]}\n",
      "{'name': 'vital', 'children': [{'name': 'vital', 'children': [{'similarity': 1.0}]}]}\n",
      "{'name': 'geographical', 'children': [{'name': 'geographical', 'children': [{'similarity': 1.0}]}]}\n",
      "{'name': 'tremendous', 'children': [{'name': 'tremendous', 'children': [{'similarity': 1.0}]}]}\n",
      "{'name': 'tremendous', 'children': [{'name': 'tremendous', 'children': [{'similarity': 1.0}]}, {'name': 'enormous', 'children': [{'similarity': 0.7712431748258823}]}]}\n",
      "{'name': 'profound', 'children': [{'name': 'profound', 'children': [{'similarity': 1.0000000000000002}]}]}\n",
      "{'name': 'captivating', 'children': [{'name': 'intriguing', 'children': [{'similarity': 0.7391695904404512}]}]}\n",
      "{'name': 'captivating', 'children': [{'name': 'intriguing', 'children': [{'similarity': 0.7391695904404512}]}, {'name': 'captivating', 'children': [{'similarity': 0.9999999999999998}]}]}\n",
      "{'name': 'massive', 'children': [{'name': 'massive', 'children': [{'similarity': 0.9999999999999999}]}]}\n",
      "{'name': 'massive', 'children': [{'name': 'massive', 'children': [{'similarity': 0.9999999999999999}]}, {'name': 'enormous', 'children': [{'similarity': 0.84176436275577}]}]}\n",
      "{'name': 'centrifugal', 'children': [{'name': 'centrifugal', 'children': [{'similarity': 1.0}]}]}\n",
      "{'name': 'same', 'children': [{'name': 'same', 'children': [{'similarity': 1.0000000000000002}]}]}\n",
      "{'name': 'same', 'children': [{'name': 'same', 'children': [{'similarity': 1.0000000000000002}]}, {'name': 'not', 'children': [{'similarity': 0.7004245490559413}]}]}\n",
      "{'name': 'same', 'children': [{'name': 'same', 'children': [{'similarity': 1.0000000000000002}]}, {'name': 'not', 'children': [{'similarity': 0.7004245490559413}]}, {'name': 'exactly', 'children': [{'similarity': 0.702411210401479}]}]}\n",
      "{'name': 'hot', 'children': [{'name': 'hot', 'children': [{'similarity': 1.0}]}]}\n",
      "{'name': 'enormous', 'children': [{'name': 'vast', 'children': [{'similarity': 0.7529430308259598}]}]}\n",
      "{'name': 'enormous', 'children': [{'name': 'vast', 'children': [{'similarity': 0.7529430308259598}]}, {'name': 'tremendous', 'children': [{'similarity': 0.7712431748258823}]}]}\n",
      "{'name': 'enormous', 'children': [{'name': 'vast', 'children': [{'similarity': 0.7529430308259598}]}, {'name': 'tremendous', 'children': [{'similarity': 0.7712431748258823}]}, {'name': 'massive', 'children': [{'similarity': 0.84176436275577}]}]}\n",
      "{'name': 'enormous', 'children': [{'name': 'vast', 'children': [{'similarity': 0.7529430308259598}]}, {'name': 'tremendous', 'children': [{'similarity': 0.7712431748258823}]}, {'name': 'massive', 'children': [{'similarity': 0.84176436275577}]}, {'name': 'enormous', 'children': [{'similarity': 1.0000000000000002}]}]}\n",
      "{'name': 'smaller', 'children': [{'name': 'small', 'children': [{'similarity': 0.7731433618791603}]}]}\n",
      "{'name': 'smaller', 'children': [{'name': 'small', 'children': [{'similarity': 0.7731433618791603}]}, {'name': 'smaller', 'children': [{'similarity': 1.0}]}]}\n",
      "{'name': 'n’t', 'children': [{'name': 'n’t', 'children': [{'similarity': 1.0000000000000002}]}]}\n",
      "{'name': 'really', 'children': [{'name': 'really', 'children': [{'similarity': 0.9999999999999998}]}]}\n",
      "{'name': 'really', 'children': [{'name': 'really', 'children': [{'similarity': 0.9999999999999998}]}, {'name': 'not', 'children': [{'similarity': 0.7407652914646127}]}]}\n",
      "{'name': 'really', 'children': [{'name': 'really', 'children': [{'similarity': 0.9999999999999998}]}, {'name': 'not', 'children': [{'similarity': 0.7407652914646127}]}, {'name': 'exactly', 'children': [{'similarity': 0.7482164359832791}]}]}\n",
      "{'name': 'really', 'children': [{'name': 'really', 'children': [{'similarity': 0.9999999999999998}]}, {'name': 'not', 'children': [{'similarity': 0.7407652914646127}]}, {'name': 'exactly', 'children': [{'similarity': 0.7482164359832791}]}, {'name': 'truly', 'children': [{'similarity': 0.7595693145041587}]}]}\n",
      "{'name': 'really', 'children': [{'name': 'really', 'children': [{'similarity': 0.9999999999999998}]}, {'name': 'not', 'children': [{'similarity': 0.7407652914646127}]}, {'name': 'exactly', 'children': [{'similarity': 0.7482164359832791}]}, {'name': 'truly', 'children': [{'similarity': 0.7595693145041587}]}, {'name': 'way', 'children': [{'similarity': 0.7606487473536593}]}]}\n",
      "{'name': 'really', 'children': [{'name': 'really', 'children': [{'similarity': 0.9999999999999998}]}, {'name': 'not', 'children': [{'similarity': 0.7407652914646127}]}, {'name': 'exactly', 'children': [{'similarity': 0.7482164359832791}]}, {'name': 'truly', 'children': [{'similarity': 0.7595693145041587}]}, {'name': 'way', 'children': [{'similarity': 0.7606487473536593}]}, {'name': 'too', 'children': [{'similarity': 0.8344732064580926}]}]}\n",
      "{'name': 'really', 'children': [{'name': 'really', 'children': [{'similarity': 0.9999999999999998}]}, {'name': 'not', 'children': [{'similarity': 0.7407652914646127}]}, {'name': 'exactly', 'children': [{'similarity': 0.7482164359832791}]}, {'name': 'truly', 'children': [{'similarity': 0.7595693145041587}]}, {'name': 'way', 'children': [{'similarity': 0.7606487473536593}]}, {'name': 'too', 'children': [{'similarity': 0.8344732064580926}]}, {'name': 'well', 'children': [{'similarity': 0.7483836793095574}]}]}\n",
      "{'name': 'not', 'children': [{'name': 'same', 'children': [{'similarity': 0.7004245490559413}]}]}\n",
      "{'name': 'not', 'children': [{'name': 'same', 'children': [{'similarity': 0.7004245490559413}]}, {'name': 'really', 'children': [{'similarity': 0.7407652914646127}]}]}\n",
      "{'name': 'not', 'children': [{'name': 'same', 'children': [{'similarity': 0.7004245490559413}]}, {'name': 'really', 'children': [{'similarity': 0.7407652914646127}]}, {'name': 'not', 'children': [{'similarity': 1.0}]}]}\n",
      "{'name': 'not', 'children': [{'name': 'same', 'children': [{'similarity': 0.7004245490559413}]}, {'name': 'really', 'children': [{'similarity': 0.7407652914646127}]}, {'name': 'not', 'children': [{'similarity': 1.0}]}, {'name': 'too', 'children': [{'similarity': 0.7369255185654966}]}]}\n"
     ]
    },
    {
     "name": "stdout",
     "output_type": "stream",
     "text": [
      "{'name': 'exactly', 'children': [{'name': 'same', 'children': [{'similarity': 0.702411210401479}]}]}\n",
      "{'name': 'exactly', 'children': [{'name': 'same', 'children': [{'similarity': 0.702411210401479}]}, {'name': 'really', 'children': [{'similarity': 0.7482164359832791}]}]}\n",
      "{'name': 'exactly', 'children': [{'name': 'same', 'children': [{'similarity': 0.702411210401479}]}, {'name': 'really', 'children': [{'similarity': 0.7482164359832791}]}, {'name': 'exactly', 'children': [{'similarity': 0.9999999999999998}]}]}\n",
      "{'name': 'exactly', 'children': [{'name': 'same', 'children': [{'similarity': 0.702411210401479}]}, {'name': 'really', 'children': [{'similarity': 0.7482164359832791}]}, {'name': 'exactly', 'children': [{'similarity': 0.9999999999999998}]}, {'name': 'precisely', 'children': [{'similarity': 0.7454505820858015}]}]}\n",
      "{'name': 'quickly', 'children': [{'name': 'quickly', 'children': [{'similarity': 0.9999999999999998}]}]}\n",
      "{'name': 'quickly', 'children': [{'name': 'quickly', 'children': [{'similarity': 0.9999999999999998}]}, {'name': 'rapidly', 'children': [{'similarity': 0.7532367510386178}]}]}\n",
      "{'name': 'truly', 'children': [{'name': 'really', 'children': [{'similarity': 0.7595693145041587}]}]}\n",
      "{'name': 'truly', 'children': [{'name': 'really', 'children': [{'similarity': 0.7595693145041587}]}, {'name': 'truly', 'children': [{'similarity': 1.0}]}]}\n",
      "{'name': 'precisely', 'children': [{'name': 'exactly', 'children': [{'similarity': 0.7454505820858015}]}]}\n",
      "{'name': 'precisely', 'children': [{'name': 'exactly', 'children': [{'similarity': 0.7454505820858015}]}, {'name': 'precisely', 'children': [{'similarity': 0.9999999999999998}]}]}\n",
      "{'name': 'little', 'children': [{'name': 'small', 'children': [{'similarity': 0.7017077829277723}]}]}\n",
      "{'name': 'little', 'children': [{'name': 'small', 'children': [{'similarity': 0.7017077829277723}]}, {'name': 'little', 'children': [{'similarity': 0.9999999999999999}]}]}\n",
      "{'name': 'little', 'children': [{'name': 'small', 'children': [{'similarity': 0.7017077829277723}]}, {'name': 'little', 'children': [{'similarity': 0.9999999999999999}]}, {'name': 'too', 'children': [{'similarity': 0.7333647834975289}]}]}\n",
      "{'name': 'rapidly', 'children': [{'name': 'quickly', 'children': [{'similarity': 0.7532367510386178}]}]}\n",
      "{'name': 'rapidly', 'children': [{'name': 'quickly', 'children': [{'similarity': 0.7532367510386178}]}, {'name': 'rapidly', 'children': [{'similarity': 0.9999999999999998}]}]}\n",
      "{'name': 'up', 'children': [{'name': 'up', 'children': [{'similarity': 1.0}]}]}\n",
      "{'name': 'recently', 'children': [{'name': 'recently', 'children': [{'similarity': 1.0000000000000004}]}]}\n",
      "{'name': 'Likewise', 'children': [{'name': 'Likewise', 'children': [{'similarity': 1.0000000000000002}]}]}\n",
      "{'name': 'Likewise', 'children': [{'name': 'Likewise', 'children': [{'similarity': 1.0000000000000002}]}, {'name': 'Moreover', 'children': [{'similarity': 0.818090509509434}]}]}\n",
      "{'name': 'too', 'children': [{'name': 'really', 'children': [{'similarity': 0.8344732064580926}]}]}\n",
      "{'name': 'too', 'children': [{'name': 'really', 'children': [{'similarity': 0.8344732064580926}]}, {'name': 'not', 'children': [{'similarity': 0.7369255185654966}]}]}\n",
      "{'name': 'too', 'children': [{'name': 'really', 'children': [{'similarity': 0.8344732064580926}]}, {'name': 'not', 'children': [{'similarity': 0.7369255185654966}]}, {'name': 'little', 'children': [{'similarity': 0.7333647834975289}]}]}\n",
      "{'name': 'too', 'children': [{'name': 'really', 'children': [{'similarity': 0.8344732064580926}]}, {'name': 'not', 'children': [{'similarity': 0.7369255185654966}]}, {'name': 'little', 'children': [{'similarity': 0.7333647834975289}]}, {'name': 'way', 'children': [{'similarity': 0.7103311665539109}]}]}\n",
      "{'name': 'too', 'children': [{'name': 'really', 'children': [{'similarity': 0.8344732064580926}]}, {'name': 'not', 'children': [{'similarity': 0.7369255185654966}]}, {'name': 'little', 'children': [{'similarity': 0.7333647834975289}]}, {'name': 'way', 'children': [{'similarity': 0.7103311665539109}]}, {'name': 'too', 'children': [{'similarity': 0.9999999999999999}]}]}\n",
      "{'name': 'too', 'children': [{'name': 'really', 'children': [{'similarity': 0.8344732064580926}]}, {'name': 'not', 'children': [{'similarity': 0.7369255185654966}]}, {'name': 'little', 'children': [{'similarity': 0.7333647834975289}]}, {'name': 'way', 'children': [{'similarity': 0.7103311665539109}]}, {'name': 'too', 'children': [{'similarity': 0.9999999999999999}]}, {'name': 'well', 'children': [{'similarity': 0.7569540904208247}]}]}\n",
      "{'name': 'almost', 'children': [{'name': 'almost', 'children': [{'similarity': 0.9999999999999999}]}]}\n",
      "{'name': 'Moreover', 'children': [{'name': 'Likewise', 'children': [{'similarity': 0.818090509509434}]}]}\n",
      "{'name': 'Moreover', 'children': [{'name': 'Likewise', 'children': [{'similarity': 0.818090509509434}]}, {'name': 'Moreover', 'children': [{'similarity': 1.0000000000000002}]}]}\n",
      "{'name': 'as', 'children': [{'name': 'as', 'children': [{'similarity': 1.0}]}]}\n",
      "{'name': 'as', 'children': [{'name': 'as', 'children': [{'similarity': 1.0}]}, {'name': 'well', 'children': [{'similarity': 0.7461969487154666}]}]}\n",
      "{'name': 'well', 'children': [{'name': 'really', 'children': [{'similarity': 0.7483836793095574}]}]}\n",
      "{'name': 'well', 'children': [{'name': 'really', 'children': [{'similarity': 0.7483836793095574}]}, {'name': 'too', 'children': [{'similarity': 0.7569540904208247}]}]}\n",
      "{'name': 'well', 'children': [{'name': 'really', 'children': [{'similarity': 0.7483836793095574}]}, {'name': 'too', 'children': [{'similarity': 0.7569540904208247}]}, {'name': 'as', 'children': [{'similarity': 0.7461969487154666}]}]}\n",
      "{'name': 'well', 'children': [{'name': 'really', 'children': [{'similarity': 0.7483836793095574}]}, {'name': 'too', 'children': [{'similarity': 0.7569540904208247}]}, {'name': 'as', 'children': [{'similarity': 0.7461969487154666}]}, {'name': 'well', 'children': [{'similarity': 1.0}]}]}\n"
     ]
    }
   ],
   "source": [
    "import json\n",
    "#to Json file\n",
    "word = {\n",
    "        'name': \"Words\",\n",
    "        'children': []\n",
    "        }\n",
    "noun = {\n",
    "        'name': \"NOUN\",\n",
    "        'children': []\n",
    "        }\n",
    "verb = {\n",
    "        'name': \"VERB\",\n",
    "        'children': []\n",
    "        }\n",
    "JJRB = {\n",
    "        'name': \"ADV_ADJ\",\n",
    "        'children': []\n",
    "        }\n",
    "similarWords = {\n",
    "            'name': \"\",\n",
    "            'children': []\n",
    "            }\n",
    "with open('data.json','w') as out:\n",
    "    for unique in final_unique: \n",
    "        if unique[1] == \"Noun\":\n",
    "            uniqueWord = {\n",
    "                        'name': \"\",\n",
    "                        'children': []\n",
    "                        }\n",
    "            for similar in data_noun:\n",
    "                if unique[0] == similar[0] and unique[1] == similar[3]:\n",
    "                    similarity = {\n",
    "                        'similarity': 0\n",
    "                    }\n",
    "                    similarity['similarity'] = similar[4]\n",
    "                    similarWords = {\n",
    "                        'name': similar[2],\n",
    "                        'children': []\n",
    "                    }\n",
    "                    similarWords['children'].append(similarity)\n",
    "                    uniqueWord['name'] = unique[0]\n",
    "                    uniqueWord['children'].append(similarWords)\n",
    "            if len(uniqueWord['children']) > 1:\n",
    "                noun['children'].append(uniqueWord)\n",
    "        elif unique[1] == \"Verb\":\n",
    "            uniqueWord = {\n",
    "                        'name': \"\",\n",
    "                        'children': []\n",
    "                        }\n",
    "            for similar in data_verb:\n",
    "                if unique[0] == similar[0] and unique[1] == similar[3]:\n",
    "                    similarity = {\n",
    "                        'similarity': 0\n",
    "                    }\n",
    "                    similarity['similarity'] = similar[4]\n",
    "                    similarWords = {\n",
    "                        'name': similar[2],\n",
    "                        'children': []\n",
    "                    }\n",
    "                    similarWords['children'].append(similarity)\n",
    "                    uniqueWord['name'] = unique[0]\n",
    "                    uniqueWord['children'].append(similarWords)\n",
    "            if len(uniqueWord['children']) > 1:\n",
    "                verb['children'].append(uniqueWord)\n",
    "        elif unique[1] == \"JJRB\":\n",
    "            uniqueWord = {\n",
    "                        'name': \"\",\n",
    "                        'children': []\n",
    "                        }\n",
    "            for similar in data_JJRB:\n",
    "                if unique[0] == similar[0] and unique[1] == similar[3]:\n",
    "                    similarity = {\n",
    "                        'similarity': 0\n",
    "                    }\n",
    "                    similarity['similarity'] = similar[4]\n",
    "                    similarWords = {\n",
    "                        'name': similar[2],\n",
    "                        'children': []\n",
    "                    }\n",
    "                    similarWords['children'].append(similarity)\n",
    "                    uniqueWord['name'] = unique[0]\n",
    "                    uniqueWord['children'].append(similarWords)\n",
    "                    print (unique[0],similarWords)\n",
    "            if len(uniqueWord['children']) > 1:\n",
    "                JJRB['children'].append(uniqueWord)            \n",
    "\n",
    "    word['children'].append(noun)\n",
    "    word['children'].append(verb)\n",
    "    word['children'].append(JJRB)\n",
    "    \n",
    "    BG = {\n",
    "        'name': \"BG\",\n",
    "        'children': []\n",
    "    }\n",
    "    BG['children'].append(word)\n",
    "    \n",
    "    json.dump(BG, out)\n"
   ]
  },
  {
   "cell_type": "code",
   "execution_count": null,
   "metadata": {},
   "outputs": [],
   "source": []
  },
  {
   "cell_type": "code",
   "execution_count": null,
   "metadata": {},
   "outputs": [],
   "source": []
  }
 ],
 "metadata": {
  "kernelspec": {
   "display_name": "Python 3",
   "language": "python",
   "name": "python3"
  },
  "language_info": {
   "codemirror_mode": {
    "name": "ipython",
    "version": 3
   },
   "file_extension": ".py",
   "mimetype": "text/x-python",
   "name": "python",
   "nbconvert_exporter": "python",
   "pygments_lexer": "ipython3",
   "version": "3.7.4"
  }
 },
 "nbformat": 4,
 "nbformat_minor": 2
}
